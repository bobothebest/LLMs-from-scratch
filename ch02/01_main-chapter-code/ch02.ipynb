{
  "cells": [
    {
      "cell_type": "markdown",
      "metadata": {
        "id": "view-in-github",
        "colab_type": "text"
      },
      "source": [
        "<a href=\"https://colab.research.google.com/github/bobothebest/LLMs-from-scratch/blob/main/ch02/01_main-chapter-code/ch02.ipynb\" target=\"_parent\"><img src=\"https://colab.research.google.com/assets/colab-badge.svg\" alt=\"Open In Colab\"/></a>"
      ]
    },
    {
      "cell_type": "markdown",
      "id": "d95f841a-63c9-41d4-aea1-496b3d2024dd",
      "metadata": {
        "id": "d95f841a-63c9-41d4-aea1-496b3d2024dd"
      },
      "source": [
        "<table style=\"width:100%\">\n",
        "<tr>\n",
        "<td style=\"vertical-align:middle; text-align:left;\">\n",
        "<font size=\"2\">\n",
        "Supplementary code for the <a href=\"http://mng.bz/orYv\">Build a Large Language Model From Scratch</a> book by <a href=\"https://sebastianraschka.com\">Sebastian Raschka</a><br>\n",
        "<br>Code repository: <a href=\"https://github.com/rasbt/LLMs-from-scratch\">https://github.com/rasbt/LLMs-from-scratch</a>\n",
        "</font>\n",
        "</td>\n",
        "<td style=\"vertical-align:middle; text-align:left;\">\n",
        "<a href=\"http://mng.bz/orYv\"><img src=\"https://sebastianraschka.com/images/LLMs-from-scratch-images/cover-small.webp\" width=\"100px\"></a>\n",
        "</td>\n",
        "</tr>\n",
        "</table>\n"
      ]
    },
    {
      "cell_type": "markdown",
      "id": "25aa40e3-5109-433f-9153-f5770531fe94",
      "metadata": {
        "id": "25aa40e3-5109-433f-9153-f5770531fe94"
      },
      "source": [
        "# Chapter 2: Working with Text Data"
      ]
    },
    {
      "cell_type": "markdown",
      "id": "76d5d2c0-cba8-404e-9bf3-71a218cae3cf",
      "metadata": {
        "id": "76d5d2c0-cba8-404e-9bf3-71a218cae3cf"
      },
      "source": [
        "Packages that are being used in this notebook:"
      ]
    },
    {
      "cell_type": "code",
      "execution_count": 1,
      "id": "4d1305cf-12d5-46fe-a2c9-36fb71c5b3d3",
      "metadata": {
        "colab": {
          "base_uri": "https://localhost:8080/"
        },
        "id": "4d1305cf-12d5-46fe-a2c9-36fb71c5b3d3",
        "outputId": "8ce968d9-4c49-497d-b710-258993d04091"
      },
      "outputs": [
        {
          "output_type": "stream",
          "name": "stdout",
          "text": [
            "Collecting tiktoken\n",
            "  Downloading tiktoken-0.9.0-cp311-cp311-manylinux_2_17_x86_64.manylinux2014_x86_64.whl.metadata (6.7 kB)\n",
            "Requirement already satisfied: regex>=2022.1.18 in /usr/local/lib/python3.11/dist-packages (from tiktoken) (2024.11.6)\n",
            "Requirement already satisfied: requests>=2.26.0 in /usr/local/lib/python3.11/dist-packages (from tiktoken) (2.32.3)\n",
            "Requirement already satisfied: charset-normalizer<4,>=2 in /usr/local/lib/python3.11/dist-packages (from requests>=2.26.0->tiktoken) (3.4.1)\n",
            "Requirement already satisfied: idna<4,>=2.5 in /usr/local/lib/python3.11/dist-packages (from requests>=2.26.0->tiktoken) (3.10)\n",
            "Requirement already satisfied: urllib3<3,>=1.21.1 in /usr/local/lib/python3.11/dist-packages (from requests>=2.26.0->tiktoken) (2.4.0)\n",
            "Requirement already satisfied: certifi>=2017.4.17 in /usr/local/lib/python3.11/dist-packages (from requests>=2.26.0->tiktoken) (2025.4.26)\n",
            "Downloading tiktoken-0.9.0-cp311-cp311-manylinux_2_17_x86_64.manylinux2014_x86_64.whl (1.2 MB)\n",
            "\u001b[?25l   \u001b[90m━━━━━━━━━━━━━━━━━━━━━━━━━━━━━━━━━━━━━━━━\u001b[0m \u001b[32m0.0/1.2 MB\u001b[0m \u001b[31m?\u001b[0m eta \u001b[36m-:--:--\u001b[0m\r\u001b[2K   \u001b[91m━━━━━━━━━━━━━━━━━\u001b[0m\u001b[91m╸\u001b[0m\u001b[90m━━━━━━━━━━━━━━━━━━━━━━\u001b[0m \u001b[32m0.5/1.2 MB\u001b[0m \u001b[31m18.1 MB/s\u001b[0m eta \u001b[36m0:00:01\u001b[0m\r\u001b[2K   \u001b[90m━━━━━━━━━━━━━━━━━━━━━━━━━━━━━━━━━━━━━━━━\u001b[0m \u001b[32m1.2/1.2 MB\u001b[0m \u001b[31m21.9 MB/s\u001b[0m eta \u001b[36m0:00:00\u001b[0m\n",
            "\u001b[?25hInstalling collected packages: tiktoken\n",
            "Successfully installed tiktoken-0.9.0\n",
            "torch version: 2.6.0+cu124\n",
            "tiktoken version: 0.9.0\n"
          ]
        }
      ],
      "source": [
        "!pip install tiktoken\n",
        "from importlib.metadata import version\n",
        "\n",
        "print(\"torch version:\", version(\"torch\"))\n",
        "print(\"tiktoken version:\", version(\"tiktoken\"))"
      ]
    },
    {
      "cell_type": "markdown",
      "id": "5a42fbfd-e3c2-43c2-bc12-f5f870a0b10a",
      "metadata": {
        "id": "5a42fbfd-e3c2-43c2-bc12-f5f870a0b10a"
      },
      "source": [
        "- This chapter covers data preparation and sampling to get input data \"ready\" for the LLM"
      ]
    },
    {
      "cell_type": "markdown",
      "id": "628b2922-594d-4ff9-bd82-04f1ebdf41f5",
      "metadata": {
        "id": "628b2922-594d-4ff9-bd82-04f1ebdf41f5"
      },
      "source": [
        "<img src=\"https://sebastianraschka.com/images/LLMs-from-scratch-images/ch02_compressed/01.webp?timestamp=1\" width=\"500px\">"
      ]
    },
    {
      "cell_type": "markdown",
      "id": "2417139b-2357-44d2-bd67-23f5d7f52ae7",
      "metadata": {
        "id": "2417139b-2357-44d2-bd67-23f5d7f52ae7"
      },
      "source": [
        "## 2.1 Understanding word embeddings"
      ]
    },
    {
      "cell_type": "markdown",
      "id": "0b6816ae-e927-43a9-b4dd-e47a9b0e1cf6",
      "metadata": {
        "id": "0b6816ae-e927-43a9-b4dd-e47a9b0e1cf6"
      },
      "source": [
        "- No code in this section"
      ]
    },
    {
      "cell_type": "markdown",
      "id": "4f69dab7-a433-427a-9e5b-b981062d6296",
      "metadata": {
        "id": "4f69dab7-a433-427a-9e5b-b981062d6296"
      },
      "source": [
        "- There are many forms of embeddings; we focus on text embeddings in this book  \n",
        "embeding 指的是嵌入，也就是可理解为输入的向量化。"
      ]
    },
    {
      "cell_type": "markdown",
      "source": [
        "embedding（嵌入/向量表示）的本质，是将离散的对象（比如单词、图片，甚至整篇文档）映射（转换）到连续的向量空间中的点。\n",
        "“离散对象”指的是不能直接用数字表达的东西，比如文字、图片类别等。\n",
        "“连续向量空间”可以理解为一组可以用一串数字表示的空间（比如3维空间里的点用[x, y, z]表示，更常见的是几十、几百、几千维的向量）。\n",
        "这样，每个对象就对应一个唯一的数字数组（向量）。"
      ],
      "metadata": {
        "id": "tW8EJiIhwMBy"
      },
      "id": "tW8EJiIhwMBy"
    },
    {
      "cell_type": "markdown",
      "id": "ba08d16f-f237-4166-bf89-0e9fe703e7b4",
      "metadata": {
        "id": "ba08d16f-f237-4166-bf89-0e9fe703e7b4"
      },
      "source": [
        "<img src=\"https://sebastianraschka.com/images/LLMs-from-scratch-images/ch02_compressed/02.webp\" width=\"500px\">"
      ]
    },
    {
      "cell_type": "markdown",
      "source": [
        "图中展示了视频，音频和文本内容的embedding。  \n",
        "不同的输入需要的embedding方式不一样，不可以混用。"
      ],
      "metadata": {
        "id": "Tk_szz05uvji"
      },
      "id": "Tk_szz05uvji"
    },
    {
      "cell_type": "markdown",
      "id": "288c4faf-b93a-4616-9276-7a4aa4b5e9ba",
      "metadata": {
        "id": "288c4faf-b93a-4616-9276-7a4aa4b5e9ba"
      },
      "source": [
        "- LLMs work with embeddings in high-dimensional spaces (i.e., thousands of dimensions)\n",
        "- Since we can't visualize such high-dimensional spaces (we humans think in 1, 2, or 3 dimensions), the figure below illustrates a 2-dimensional embedding space"
      ]
    },
    {
      "cell_type": "markdown",
      "source": [
        "有许多算法和框架被开发出来用于生成词向量（word embeddings）。  \n",
        "词向量是一种把单词表示成数字向量的方法，这样计算机就能“理解”词语之间的关系和含义。  \n",
        "其中一个较早且非常流行的例子就是Word2Vec方法。  \n",
        "Word2Vec是 Google 在 2013 年提出的词向量训练方法，非常有影响力。  \n",
        "Word2Vec 通过训练一种神经网络结构来生成词向量，其方式是：给定目标词预测上下文，或给定上下文预测目标词。\n",
        "Word2Vec 的核心思想是：出现在相似上下文中的词，往往意义也相似。\n",
        "例如，“dog”和“cat”都可能出现在“pet”、“feed”等类似的上下文里，因此它们的向量距离会很近。"
      ],
      "metadata": {
        "id": "Avh8MnPtvovs"
      },
      "id": "Avh8MnPtvovs"
    },
    {
      "cell_type": "markdown",
      "id": "d6b80160-1f10-4aad-a85e-9c79444de9e6",
      "metadata": {
        "id": "d6b80160-1f10-4aad-a85e-9c79444de9e6"
      },
      "source": [
        "<img src=\"https://sebastianraschka.com/images/LLMs-from-scratch-images/ch02_compressed/03.webp\" width=\"300px\">"
      ]
    },
    {
      "cell_type": "markdown",
      "source": [
        "因此，当我们把高维的词向量降到二维，用于可视化的时候，会发现相似的词聚在一起形成簇，如图2.3所示。\n",
        "\n",
        "也就是说，把词向量可视化后，你会看到相关的单词会聚成一堆，比如所有动物词在一起，食物词在一起等。"
      ],
      "metadata": {
        "id": "y__FtMg6v6UM"
      },
      "id": "y__FtMg6v6UM"
    },
    {
      "cell_type": "markdown",
      "source": [
        "以往我们可以用Word2Vec等预训练模型直接生成词向量，然后把这些词向量作为输入给下游的机器学习模型。  \n",
        "但大语言模型（LLMs），例如GPT系列，通常会在模型的输入层内置自己的embedding层，并在训练过程中不断优化这些向量。   \n",
        "这样做的好处是：embedding 会针对当前任务和数据进行优化，比直接用Word2Vec这种通用型embedding更合适、更有效。  \n",
        "  \n",
        "比如：  \n",
        "最小的GPT-2（1.17亿/1.25亿参数）embedding维度是768。  \n",
        "最大的GPT-3（1750亿参数）embedding维度高达12,288。  \n",
        "（这是否能解释GPT的输入长度的问题？也就是它不是固定的）"
      ],
      "metadata": {
        "id": "lV75ScoSwd2U"
      },
      "id": "lV75ScoSwd2U"
    },
    {
      "cell_type": "markdown",
      "source": [
        "实际应用中，LLM的embedding远远不止2维，通常是几百到几万维，具体取决于模型规模。  \n",
        "embedding维度越高，模型表现（性能）可能越好，但计算和存储成本也越高，所以需要权衡。"
      ],
      "metadata": {
        "id": "qceC3Tx5wowS"
      },
      "id": "qceC3Tx5wowS"
    },
    {
      "cell_type": "markdown",
      "id": "eddbb984-8d23-40c5-bbfa-c3c379e7eec3",
      "metadata": {
        "id": "eddbb984-8d23-40c5-bbfa-c3c379e7eec3"
      },
      "source": [
        "## 2.2 Tokenizing text"
      ]
    },
    {
      "cell_type": "markdown",
      "id": "f9c90731-7dc9-4cd3-8c4a-488e33b48e80",
      "metadata": {
        "id": "f9c90731-7dc9-4cd3-8c4a-488e33b48e80"
      },
      "source": [
        "- In this section, we tokenize text, which means breaking text into smaller units, such as individual words and punctuation characters"
      ]
    },
    {
      "cell_type": "markdown",
      "id": "09872fdb-9d4e-40c4-949d-52a01a43ec4b",
      "metadata": {
        "id": "09872fdb-9d4e-40c4-949d-52a01a43ec4b"
      },
      "source": [
        "<img src=\"https://sebastianraschka.com/images/LLMs-from-scratch-images/ch02_compressed/04.webp\" width=\"300px\">"
      ]
    },
    {
      "cell_type": "markdown",
      "id": "8cceaa18-833d-46b6-b211-b20c53902805",
      "metadata": {
        "id": "8cceaa18-833d-46b6-b211-b20c53902805"
      },
      "source": [
        "- Load raw text we want to work with\n",
        "- [The Verdict by Edith Wharton](https://en.wikisource.org/wiki/The_Verdict) is a public domain short story"
      ]
    },
    {
      "cell_type": "code",
      "execution_count": 2,
      "id": "40f9d9b1-6d32-485a-825a-a95392a86d79",
      "metadata": {
        "id": "40f9d9b1-6d32-485a-825a-a95392a86d79"
      },
      "outputs": [],
      "source": [
        "import os\n",
        "import urllib.request\n",
        "\n",
        "if not os.path.exists(\"the-verdict.txt\"):\n",
        "    url = (\"https://raw.githubusercontent.com/rasbt/\"\n",
        "           \"LLMs-from-scratch/main/ch02/01_main-chapter-code/\"\n",
        "           \"the-verdict.txt\")\n",
        "    file_path = \"the-verdict.txt\"\n",
        "    urllib.request.urlretrieve(url, file_path)"
      ]
    },
    {
      "cell_type": "markdown",
      "id": "56488f2c-a2b8-49f1-aaeb-461faad08dce",
      "metadata": {
        "id": "56488f2c-a2b8-49f1-aaeb-461faad08dce"
      },
      "source": [
        "- (If you encounter an `ssl.SSLCertVerificationError` when executing the previous code cell, it might be due to using an outdated Python version; you can find [more information here on GitHub](https://github.com/rasbt/LLMs-from-scratch/pull/403))"
      ]
    },
    {
      "cell_type": "code",
      "execution_count": 3,
      "id": "8a769e87-470a-48b9-8bdb-12841b416198",
      "metadata": {
        "colab": {
          "base_uri": "https://localhost:8080/"
        },
        "id": "8a769e87-470a-48b9-8bdb-12841b416198",
        "outputId": "6a17532c-20b1-43b3-869d-4aa7156190aa"
      },
      "outputs": [
        {
          "output_type": "stream",
          "name": "stdout",
          "text": [
            "Total number of character: 20479\n",
            "I HAD always thought Jack Gisburn rather a cheap genius--though a good fellow enough--so it was no \n"
          ]
        }
      ],
      "source": [
        "#打开小说并打印前100个字符\n",
        "with open(\"the-verdict.txt\", \"r\", encoding=\"utf-8\") as f:\n",
        "    raw_text = f.read()\n",
        "\n",
        "print(\"Total number of character:\", len(raw_text))\n",
        "print(raw_text[:99])"
      ]
    },
    {
      "cell_type": "markdown",
      "id": "9b971a46-ac03-4368-88ae-3f20279e8f4e",
      "metadata": {
        "id": "9b971a46-ac03-4368-88ae-3f20279e8f4e"
      },
      "source": [
        "- The goal is to tokenize and embed this text for an LLM\n",
        "- Let's develop a simple tokenizer based on some simple sample text that we can then later apply to the text above\n",
        "- The following regular expression will split on whitespaces"
      ]
    },
    {
      "cell_type": "code",
      "execution_count": 4,
      "id": "737dd5b0-9dbb-4a97-9ae4-3482c8c04be7",
      "metadata": {
        "colab": {
          "base_uri": "https://localhost:8080/"
        },
        "id": "737dd5b0-9dbb-4a97-9ae4-3482c8c04be7",
        "outputId": "586951af-13e8-4da2-81c6-3ff91be6aa71"
      },
      "outputs": [
        {
          "output_type": "stream",
          "name": "stdout",
          "text": [
            "['Hello,', ' ', 'world.', ' ', 'This,', ' ', 'is', ' ', 'a', ' ', 'test.']\n"
          ]
        }
      ],
      "source": [
        "#导入python中的re包\n",
        "#re 是 Python 内置的正则表达式（regular expression）模块。主要用于字符串的模式匹配、查找、替换、分割等操作。\n",
        "import re\n",
        "\n",
        "text = \"Hello, world. This, is a test.\"\n",
        "result = re.split(r'(\\s)', text)\n",
        "#使用正则表达式 r'(\\s)' 拆分字符串 text。\n",
        "#\\s 代表任意空白字符（空格、制表符、换行等，这里主要是空格）。\n",
        "#括号 () 是捕获分组，表示分割后保留分隔符本身（即空白字符）。\n",
        "#这行代码的意思是：按空白字符分割字符串，并把空白字符也放进结果列表中。\n",
        "\n",
        "print(result)"
      ]
    },
    {
      "cell_type": "markdown",
      "source": [
        "结果是单个单词、空格和标点符号 字符的列表"
      ],
      "metadata": {
        "id": "HLepWPw-2q0K"
      },
      "id": "HLepWPw-2q0K"
    },
    {
      "cell_type": "markdown",
      "source": [
        "上面有的单词包含标点，修改代码让单词和标点分开。"
      ],
      "metadata": {
        "id": "YcQJGSf726mj"
      },
      "id": "YcQJGSf726mj"
    },
    {
      "cell_type": "markdown",
      "id": "a8c40c18-a9d5-4703-bf71-8261dbcc5ee3",
      "metadata": {
        "id": "a8c40c18-a9d5-4703-bf71-8261dbcc5ee3"
      },
      "source": [
        "- We don't only want to split on whitespaces but also commas and periods, so let's modify the regular expression to do that as well"
      ]
    },
    {
      "cell_type": "code",
      "execution_count": 5,
      "id": "ea02489d-01f9-4247-b7dd-a0d63f62ef07",
      "metadata": {
        "colab": {
          "base_uri": "https://localhost:8080/"
        },
        "id": "ea02489d-01f9-4247-b7dd-a0d63f62ef07",
        "outputId": "e57f1f9c-e934-4a91-a74c-a9a5eaa1a0ed"
      },
      "outputs": [
        {
          "output_type": "stream",
          "name": "stdout",
          "text": [
            "['Hello', ',', '', ' ', 'world', '.', '', ' ', 'This', ',', '', ' ', 'is', ' ', 'a', ' ', 'test', '.', '']\n"
          ]
        }
      ],
      "source": [
        "#按照逗号、句号或空白字符来分割字符串 text，并把这些分隔符也放进结果列表。\n",
        "result = re.split(r'([,.]|\\s)', text)\n",
        "#[,.]：表示逗号 , 或句号 . 中的任意一个字符。\n",
        "#\\s：表示任意空白字符（如空格、制表符等）。\n",
        "#([,.]|\\s)：| 表示“或”，所以整个表达式表示“逗号、句号或空白字符中的任意一个”。\n",
        "#括号 () 表示捕获分组，分割后这些分隔符也会被保留下来。\n",
        "print(result)"
      ]
    },
    {
      "cell_type": "markdown",
      "id": "461d0c86-e3af-4f87-8fae-594a9ca9b6ad",
      "metadata": {
        "id": "461d0c86-e3af-4f87-8fae-594a9ca9b6ad"
      },
      "source": [
        "- As we can see, this creates empty strings, let's remove them"
      ]
    },
    {
      "cell_type": "markdown",
      "source": [
        "分隔后有空白的内容，现在去掉空白的字符串"
      ],
      "metadata": {
        "id": "-2AbhqdI4YSd"
      },
      "id": "-2AbhqdI4YSd"
    },
    {
      "cell_type": "code",
      "execution_count": 6,
      "id": "4d8a6fb7-2e62-4a12-ad06-ccb04f25fed7",
      "metadata": {
        "colab": {
          "base_uri": "https://localhost:8080/"
        },
        "id": "4d8a6fb7-2e62-4a12-ad06-ccb04f25fed7",
        "outputId": "1e8f9503-c668-4adc-9074-fd4daca4a879"
      },
      "outputs": [
        {
          "output_type": "stream",
          "name": "stdout",
          "text": [
            "['Hello', ',', 'world', '.', 'This', ',', 'is', 'a', 'test', '.']\n"
          ]
        }
      ],
      "source": [
        "# Strip whitespace from each item and then filter out any empty strings.\n",
        "# 去除每个元素前后的空白字符（如空格、制表符、换行符），只保留非空内容。\n",
        "result = [item for item in result if item.strip()]\n",
        "print(result)"
      ]
    },
    {
      "cell_type": "markdown",
      "source": [
        "是不是去除空格看需要，去掉空格节省内存空间。  \n",
        "但是对有的对格式很敏感的文本（比如代码），保留空格是有用的。"
      ],
      "metadata": {
        "id": "i1Vn3KSZ7fFZ"
      },
      "id": "i1Vn3KSZ7fFZ"
    },
    {
      "cell_type": "markdown",
      "id": "250e8694-181e-496f-895d-7cb7d92b5562",
      "metadata": {
        "id": "250e8694-181e-496f-895d-7cb7d92b5562"
      },
      "source": [
        "- This looks pretty good, but let's also handle other types of punctuation, such as periods, question marks, and so on"
      ]
    },
    {
      "cell_type": "code",
      "execution_count": 7,
      "id": "ed3a9467-04b4-49d9-96c5-b8042bcf8374",
      "metadata": {
        "colab": {
          "base_uri": "https://localhost:8080/"
        },
        "id": "ed3a9467-04b4-49d9-96c5-b8042bcf8374",
        "outputId": "0ee49b2a-913e-4faf-e7b9-109dddb10760"
      },
      "outputs": [
        {
          "output_type": "stream",
          "name": "stdout",
          "text": [
            "['Hello', ',', 'world', '.', 'Is', 'this', '--', 'a', 'test', '?']\n"
          ]
        }
      ],
      "source": [
        "#去除其他类型的标点符号，问号逗号分号之类的\n",
        "text = \"Hello, world. Is this-- a test?\"\n",
        "\n",
        "result = re.split(r'([,.:;?_!\"()\\']|--|\\s)', text)\n",
        "result = [item.strip() for item in result if item.strip()]\n",
        "#item.strip()：去除每个元素左右两端的空白字符。\n",
        "#if item.strip()：过滤掉空字符串和全是空白的元素。\n",
        "#只留下内容非空的子串和标点。\n",
        "print(result)"
      ]
    },
    {
      "cell_type": "markdown",
      "id": "5bbea70b-c030-45d9-b09d-4318164c0bb4",
      "metadata": {
        "id": "5bbea70b-c030-45d9-b09d-4318164c0bb4"
      },
      "source": [
        "- This is pretty good, and we are now ready to apply this tokenization to the raw text"
      ]
    },
    {
      "cell_type": "markdown",
      "source": [
        "现在开始tokenization原始文本"
      ],
      "metadata": {
        "id": "Q60FyfxC5Bta"
      },
      "id": "Q60FyfxC5Bta"
    },
    {
      "cell_type": "markdown",
      "id": "6cbe9330-b587-4262-be9f-497a84ec0e8a",
      "metadata": {
        "id": "6cbe9330-b587-4262-be9f-497a84ec0e8a"
      },
      "source": [
        "<img src=\"https://sebastianraschka.com/images/LLMs-from-scratch-images/ch02_compressed/05.webp\" width=\"350px\">"
      ]
    },
    {
      "cell_type": "code",
      "execution_count": 8,
      "id": "8c567caa-8ff5-49a8-a5cc-d365b0a78a99",
      "metadata": {
        "colab": {
          "base_uri": "https://localhost:8080/"
        },
        "id": "8c567caa-8ff5-49a8-a5cc-d365b0a78a99",
        "outputId": "6d415826-0cf8-4b8d-f8c6-4992c42d64cc"
      },
      "outputs": [
        {
          "output_type": "stream",
          "name": "stdout",
          "text": [
            "['I', 'HAD', 'always', 'thought', 'Jack', 'Gisburn', 'rather', 'a', 'cheap', 'genius', '--', 'though', 'a', 'good', 'fellow', 'enough', '--', 'so', 'it', 'was', 'no', 'great', 'surprise', 'to', 'me', 'to', 'hear', 'that', ',', 'in']\n"
          ]
        }
      ],
      "source": [
        "#raw_text是原始的小说\n",
        "preprocessed = re.split(r'([,.:;?_!\"()\\']|--|\\s)', raw_text)\n",
        "preprocessed = [item.strip() for item in preprocessed if item.strip()]\n",
        "print(preprocessed[:30])"
      ]
    },
    {
      "cell_type": "markdown",
      "id": "e2a19e1a-5105-4ddb-812a-b7d3117eab95",
      "metadata": {
        "id": "e2a19e1a-5105-4ddb-812a-b7d3117eab95"
      },
      "source": [
        "- Let's calculate the total number of tokens"
      ]
    },
    {
      "cell_type": "code",
      "execution_count": 9,
      "id": "35db7b5e-510b-4c45-995f-f5ad64a8e19c",
      "metadata": {
        "colab": {
          "base_uri": "https://localhost:8080/"
        },
        "id": "35db7b5e-510b-4c45-995f-f5ad64a8e19c",
        "outputId": "48f91345-803e-480f-ca69-e674867c69e3"
      },
      "outputs": [
        {
          "output_type": "stream",
          "name": "stdout",
          "text": [
            "4690\n"
          ]
        }
      ],
      "source": [
        "print(len(preprocessed))"
      ]
    },
    {
      "cell_type": "markdown",
      "source": [
        "token 数量是4690"
      ],
      "metadata": {
        "id": "J1LmdCCV5LjF"
      },
      "id": "J1LmdCCV5LjF"
    },
    {
      "cell_type": "markdown",
      "source": [
        "这里 token 数量比原始文本短，因为原始文本统计的是 character，一个字母一个字母算的，token 是分词，所以数量减少了。"
      ],
      "metadata": {
        "id": "gv8rkmEa73Bb"
      },
      "id": "gv8rkmEa73Bb"
    },
    {
      "cell_type": "markdown",
      "id": "0b5ce8fe-3a07-4f2a-90f1-a0321ce3a231",
      "metadata": {
        "id": "0b5ce8fe-3a07-4f2a-90f1-a0321ce3a231"
      },
      "source": [
        "## 2.3 Converting tokens into token IDs  \n",
        "把 token 转化为 token ID"
      ]
    },
    {
      "cell_type": "markdown",
      "id": "a5204973-f414-4c0d-87b0-cfec1f06e6ff",
      "metadata": {
        "id": "a5204973-f414-4c0d-87b0-cfec1f06e6ff"
      },
      "source": [
        "- Next, we convert the text tokens into token IDs that we can process via embedding layers later"
      ]
    },
    {
      "cell_type": "markdown",
      "id": "177b041d-f739-43b8-bd81-0443ae3a7f8d",
      "metadata": {
        "id": "177b041d-f739-43b8-bd81-0443ae3a7f8d"
      },
      "source": [
        "<img src=\"https://sebastianraschka.com/images/LLMs-from-scratch-images/ch02_compressed/06.webp\" width=\"500px\">"
      ]
    },
    {
      "cell_type": "markdown",
      "source": [
        "按照字母表排序，去除重复的 token，每一个独特的、唯一的 token 映射到唯一的整数。"
      ],
      "metadata": {
        "id": "TLLUQsLsE5ex"
      },
      "id": "TLLUQsLsE5ex"
    },
    {
      "cell_type": "markdown",
      "id": "b5973794-7002-4202-8b12-0900cd779720",
      "metadata": {
        "id": "b5973794-7002-4202-8b12-0900cd779720"
      },
      "source": [
        "- From these tokens, we can now build a vocabulary that consists of all the unique tokens"
      ]
    },
    {
      "cell_type": "code",
      "execution_count": 10,
      "id": "7fdf0533-5ab6-42a5-83fa-a3b045de6396",
      "metadata": {
        "colab": {
          "base_uri": "https://localhost:8080/"
        },
        "id": "7fdf0533-5ab6-42a5-83fa-a3b045de6396",
        "outputId": "74830d78-dd28-4804-e6a3-bb49800a28b3"
      },
      "outputs": [
        {
          "output_type": "stream",
          "name": "stdout",
          "text": [
            "1130\n"
          ]
        }
      ],
      "source": [
        "#得到不重复的所有 token（词表）并排序\n",
        "all_words = sorted(set(preprocessed))\n",
        "#set(preprocessed)：把 token 列表变成集合，自动去重（每个词只保留一次）。\n",
        "#sorted(...)：对去重后的 token 按字典序排序。\n",
        "vocab_size = len(all_words)\n",
        "\n",
        "print(vocab_size)"
      ]
    },
    {
      "cell_type": "code",
      "execution_count": 11,
      "id": "77d00d96-881f-4691-bb03-84fec2a75a26",
      "metadata": {
        "id": "77d00d96-881f-4691-bb03-84fec2a75a26"
      },
      "outputs": [],
      "source": [
        "#为每个词表中的 token 分配一个唯一的整数编号\n",
        "vocab = {token:integer for integer,token in enumerate(all_words)}\n",
        "#vocab 是一个字典，每个 token 映射到一个唯一的整数 id"
      ]
    },
    {
      "cell_type": "markdown",
      "id": "75bd1f81-3a8f-4dd9-9dd6-e75f32dacbe3",
      "metadata": {
        "id": "75bd1f81-3a8f-4dd9-9dd6-e75f32dacbe3"
      },
      "source": [
        "- Below are the first 50 entries in this vocabulary:"
      ]
    },
    {
      "cell_type": "code",
      "execution_count": 12,
      "id": "e1c5de4a-aa4e-4aec-b532-10bb364039d6",
      "metadata": {
        "colab": {
          "base_uri": "https://localhost:8080/"
        },
        "id": "e1c5de4a-aa4e-4aec-b532-10bb364039d6",
        "outputId": "8795ecba-1a94-433a-994d-7cdcbfa6c504"
      },
      "outputs": [
        {
          "output_type": "stream",
          "name": "stdout",
          "text": [
            "('!', 0)\n",
            "('\"', 1)\n",
            "(\"'\", 2)\n",
            "('(', 3)\n",
            "(')', 4)\n",
            "(',', 5)\n",
            "('--', 6)\n",
            "('.', 7)\n",
            "(':', 8)\n",
            "(';', 9)\n",
            "('?', 10)\n",
            "('A', 11)\n",
            "('Ah', 12)\n",
            "('Among', 13)\n",
            "('And', 14)\n",
            "('Are', 15)\n",
            "('Arrt', 16)\n",
            "('As', 17)\n",
            "('At', 18)\n",
            "('Be', 19)\n",
            "('Begin', 20)\n",
            "('Burlington', 21)\n",
            "('But', 22)\n",
            "('By', 23)\n",
            "('Carlo', 24)\n",
            "('Chicago', 25)\n",
            "('Claude', 26)\n",
            "('Come', 27)\n",
            "('Croft', 28)\n",
            "('Destroyed', 29)\n",
            "('Devonshire', 30)\n",
            "('Don', 31)\n",
            "('Dubarry', 32)\n",
            "('Emperors', 33)\n",
            "('Florence', 34)\n",
            "('For', 35)\n",
            "('Gallery', 36)\n",
            "('Gideon', 37)\n",
            "('Gisburn', 38)\n",
            "('Gisburns', 39)\n",
            "('Grafton', 40)\n",
            "('Greek', 41)\n",
            "('Grindle', 42)\n",
            "('Grindles', 43)\n",
            "('HAD', 44)\n",
            "('Had', 45)\n",
            "('Hang', 46)\n",
            "('Has', 47)\n",
            "('He', 48)\n",
            "('Her', 49)\n",
            "('Hermia', 50)\n"
          ]
        }
      ],
      "source": [
        "for i, item in enumerate(vocab.items()):\n",
        "    print(item)\n",
        "    if i >= 50:\n",
        "        break"
      ]
    },
    {
      "cell_type": "markdown",
      "id": "67407a9f-0202-4e7c-9ed7-1b3154191ebc",
      "metadata": {
        "id": "67407a9f-0202-4e7c-9ed7-1b3154191ebc"
      },
      "source": [
        "<img src=\"https://sebastianraschka.com/images/LLMs-from-scratch-images/ch02_compressed/07.webp?123\" width=\"500px\">"
      ]
    },
    {
      "cell_type": "markdown",
      "source": [
        "下一个目标是通过已经有的词典把新的文本映射成token ID。"
      ],
      "metadata": {
        "id": "24hcluezG8Vl"
      },
      "id": "24hcluezG8Vl"
    },
    {
      "cell_type": "markdown",
      "id": "3b1dc314-351b-476a-9459-0ec9ddc29b19",
      "metadata": {
        "id": "3b1dc314-351b-476a-9459-0ec9ddc29b19"
      },
      "source": [
        "- Below, we illustrate the tokenization of a short sample text using a small vocabulary:"
      ]
    },
    {
      "cell_type": "markdown",
      "id": "4e569647-2589-4c9d-9a5c-aef1c88a0a9a",
      "metadata": {
        "id": "4e569647-2589-4c9d-9a5c-aef1c88a0a9a"
      },
      "source": [
        "- Putting it now all together into a tokenizer class"
      ]
    },
    {
      "cell_type": "code",
      "execution_count": 13,
      "id": "f531bf46-7c25-4ef8-bff8-0d27518676d5",
      "metadata": {
        "id": "f531bf46-7c25-4ef8-bff8-0d27518676d5"
      },
      "outputs": [],
      "source": [
        "#定义类\n",
        "class SimpleTokenizerV1:\n",
        "  #定义基础变量\n",
        "    def __init__(self, vocab):\n",
        "      #vocab 是一个字典，token -> id（即：词到编号的映射）。\n",
        "        self.str_to_int = vocab\n",
        "      #self.int_to_str 是反向映射，id -> token（编号到词）。\n",
        "        self.int_to_str = {i:s for s,i in vocab.items()}\n",
        "\n",
        "  #encode函数把文本转成token IDs\n",
        "    def encode(self, text):\n",
        "      #正则化\n",
        "        preprocessed = re.split(r'([,.:;?_!\"()\\']|--|\\s)', text)\n",
        "      #去除空格\n",
        "        preprocessed = [\n",
        "            item.strip() for item in preprocessed if item.strip()\n",
        "        ]\n",
        "      #转为 id\n",
        "        ids = [self.str_to_int[s] for s in preprocessed]\n",
        "        return ids\n",
        "\n",
        "  #decode函数把token IDs 转回文本\n",
        "    def decode(self, ids):\n",
        "      #用 self.int_to_str 把每个 id 转回 token，\" \".join(...) 用空格拼接成字符串。\n",
        "        text = \" \".join([self.int_to_str[i] for i in ids])\n",
        "      # Replace spaces before the specified punctuations\n",
        "      #用正则把出现在标点前的多余空格去掉，比如 \"Hello , world .\" 变成 \"Hello, world.\"。\n",
        "        text = re.sub(r'\\s+([,.?!\"()\\'])', r'\\1', text)\n",
        "        return text"
      ]
    },
    {
      "cell_type": "markdown",
      "id": "dee7a1e5-b54f-4ca1-87ef-3d663c4ee1e7",
      "metadata": {
        "id": "dee7a1e5-b54f-4ca1-87ef-3d663c4ee1e7"
      },
      "source": [
        "- The `encode` function turns text into token IDs（encode 把文本转成token IDs）\n",
        "- The `decode` function turns token IDs back into text（decode把token IDs转回文本）"
      ]
    },
    {
      "cell_type": "markdown",
      "id": "cc21d347-ec03-4823-b3d4-9d686e495617",
      "metadata": {
        "id": "cc21d347-ec03-4823-b3d4-9d686e495617"
      },
      "source": [
        "<img src=\"https://sebastianraschka.com/images/LLMs-from-scratch-images/ch02_compressed/08.webp?123\" width=\"500px\">"
      ]
    },
    {
      "cell_type": "markdown",
      "id": "c2950a94-6b0d-474e-8ed0-66d0c3c1a95c",
      "metadata": {
        "id": "c2950a94-6b0d-474e-8ed0-66d0c3c1a95c"
      },
      "source": [
        "- We can use the tokenizer to encode (that is, tokenize) texts into integers\n",
        "- These integers can then be embedded (later) as input of/for the LLM"
      ]
    },
    {
      "cell_type": "code",
      "execution_count": 14,
      "id": "647364ec-7995-4654-9b4a-7607ccf5f1e4",
      "metadata": {
        "id": "647364ec-7995-4654-9b4a-7607ccf5f1e4",
        "outputId": "4397ffd3-67c1-4ec0-9822-de27a5173143",
        "colab": {
          "base_uri": "https://localhost:8080/"
        }
      },
      "outputs": [
        {
          "output_type": "stream",
          "name": "stdout",
          "text": [
            "[1, 56, 2, 850, 988, 602, 533, 746, 5, 1126, 596, 5, 1, 67, 7, 38, 851, 1108, 754, 793, 7]\n"
          ]
        }
      ],
      "source": [
        "#使用SimpleTokenizerV1 encode\n",
        "tokenizer = SimpleTokenizerV1(vocab)\n",
        "\n",
        "text = \"\"\"\"It's the last he painted, you know,\"\n",
        "           Mrs. Gisburn said with pardonable pride.\"\"\"\n",
        "ids = tokenizer.encode(text)\n",
        "print(ids)"
      ]
    },
    {
      "cell_type": "markdown",
      "id": "3201706e-a487-4b60-b99d-5765865f29a0",
      "metadata": {
        "id": "3201706e-a487-4b60-b99d-5765865f29a0"
      },
      "source": [
        "- We can decode the integers back into text"
      ]
    },
    {
      "cell_type": "code",
      "execution_count": 16,
      "id": "01d8c8fb-432d-4a49-b332-99f23b233746",
      "metadata": {
        "id": "01d8c8fb-432d-4a49-b332-99f23b233746",
        "outputId": "39b5b6ec-3619-4fcb-d959-8fc1c91e1aaf",
        "colab": {
          "base_uri": "https://localhost:8080/",
          "height": 35
        }
      },
      "outputs": [
        {
          "output_type": "execute_result",
          "data": {
            "text/plain": [
              "'\" It\\' s the last he painted, you know,\" Mrs. Gisburn said with pardonable pride.'"
            ],
            "application/vnd.google.colaboratory.intrinsic+json": {
              "type": "string"
            }
          },
          "metadata": {},
          "execution_count": 16
        }
      ],
      "source": [
        "tokenizer.decode(ids)"
      ]
    },
    {
      "cell_type": "code",
      "execution_count": 17,
      "id": "54f6aa8b-9827-412e-9035-e827296ab0fe",
      "metadata": {
        "id": "54f6aa8b-9827-412e-9035-e827296ab0fe",
        "outputId": "d28fe01a-1883-483a-a416-92c4b6e1e27f",
        "colab": {
          "base_uri": "https://localhost:8080/",
          "height": 35
        }
      },
      "outputs": [
        {
          "output_type": "execute_result",
          "data": {
            "text/plain": [
              "'\" It\\' s the last he painted, you know,\" Mrs. Gisburn said with pardonable pride.'"
            ],
            "application/vnd.google.colaboratory.intrinsic+json": {
              "type": "string"
            }
          },
          "metadata": {},
          "execution_count": 17
        }
      ],
      "source": [
        "tokenizer.decode(tokenizer.encode(text))"
      ]
    },
    {
      "cell_type": "markdown",
      "id": "4b821ef8-4d53-43b6-a2b2-aef808c343c7",
      "metadata": {
        "id": "4b821ef8-4d53-43b6-a2b2-aef808c343c7"
      },
      "source": [
        "## 2.4 Adding special context tokens  \n",
        "本章通过调整tokenizer来处理不知道的词（训练集中没有的词）"
      ]
    },
    {
      "cell_type": "markdown",
      "id": "c661a397-da06-4a86-ac27-072dbe7cb172",
      "metadata": {
        "id": "c661a397-da06-4a86-ac27-072dbe7cb172"
      },
      "source": [
        "- Let's see what happens if we tokenize the following text:"
      ]
    },
    {
      "cell_type": "code",
      "execution_count": 18,
      "id": "d5767eff-440c-4de1-9289-f789349d6b85",
      "metadata": {
        "id": "d5767eff-440c-4de1-9289-f789349d6b85",
        "outputId": "6ce9934c-7dd7-4f94-d488-51291624dbf9",
        "colab": {
          "base_uri": "https://localhost:8080/",
          "height": 329
        }
      },
      "outputs": [
        {
          "output_type": "error",
          "ename": "KeyError",
          "evalue": "'Hello'",
          "traceback": [
            "\u001b[0;31m---------------------------------------------------------------------------\u001b[0m",
            "\u001b[0;31mKeyError\u001b[0m                                  Traceback (most recent call last)",
            "\u001b[0;32m<ipython-input-18-d80f9ff7dada>\u001b[0m in \u001b[0;36m<cell line: 0>\u001b[0;34m()\u001b[0m\n\u001b[1;32m      3\u001b[0m \u001b[0mtext\u001b[0m \u001b[0;34m=\u001b[0m \u001b[0;34m\"Hello, do you like tea. Is this-- a test?\"\u001b[0m\u001b[0;34m\u001b[0m\u001b[0;34m\u001b[0m\u001b[0m\n\u001b[1;32m      4\u001b[0m \u001b[0;34m\u001b[0m\u001b[0m\n\u001b[0;32m----> 5\u001b[0;31m \u001b[0mtokenizer\u001b[0m\u001b[0;34m.\u001b[0m\u001b[0mencode\u001b[0m\u001b[0;34m(\u001b[0m\u001b[0mtext\u001b[0m\u001b[0;34m)\u001b[0m\u001b[0;34m\u001b[0m\u001b[0;34m\u001b[0m\u001b[0m\n\u001b[0m",
            "\u001b[0;32m<ipython-input-13-46d9980faf42>\u001b[0m in \u001b[0;36mencode\u001b[0;34m(self, text)\u001b[0m\n\u001b[1;32m     17\u001b[0m         ]\n\u001b[1;32m     18\u001b[0m       \u001b[0;31m#转为 id\u001b[0m\u001b[0;34m\u001b[0m\u001b[0;34m\u001b[0m\u001b[0m\n\u001b[0;32m---> 19\u001b[0;31m         \u001b[0mids\u001b[0m \u001b[0;34m=\u001b[0m \u001b[0;34m[\u001b[0m\u001b[0mself\u001b[0m\u001b[0;34m.\u001b[0m\u001b[0mstr_to_int\u001b[0m\u001b[0;34m[\u001b[0m\u001b[0ms\u001b[0m\u001b[0;34m]\u001b[0m \u001b[0;32mfor\u001b[0m \u001b[0ms\u001b[0m \u001b[0;32min\u001b[0m \u001b[0mpreprocessed\u001b[0m\u001b[0;34m]\u001b[0m\u001b[0;34m\u001b[0m\u001b[0;34m\u001b[0m\u001b[0m\n\u001b[0m\u001b[1;32m     20\u001b[0m         \u001b[0;32mreturn\u001b[0m \u001b[0mids\u001b[0m\u001b[0;34m\u001b[0m\u001b[0;34m\u001b[0m\u001b[0m\n\u001b[1;32m     21\u001b[0m \u001b[0;34m\u001b[0m\u001b[0m\n",
            "\u001b[0;32m<ipython-input-13-46d9980faf42>\u001b[0m in \u001b[0;36m<listcomp>\u001b[0;34m(.0)\u001b[0m\n\u001b[1;32m     17\u001b[0m         ]\n\u001b[1;32m     18\u001b[0m       \u001b[0;31m#转为 id\u001b[0m\u001b[0;34m\u001b[0m\u001b[0;34m\u001b[0m\u001b[0m\n\u001b[0;32m---> 19\u001b[0;31m         \u001b[0mids\u001b[0m \u001b[0;34m=\u001b[0m \u001b[0;34m[\u001b[0m\u001b[0mself\u001b[0m\u001b[0;34m.\u001b[0m\u001b[0mstr_to_int\u001b[0m\u001b[0;34m[\u001b[0m\u001b[0ms\u001b[0m\u001b[0;34m]\u001b[0m \u001b[0;32mfor\u001b[0m \u001b[0ms\u001b[0m \u001b[0;32min\u001b[0m \u001b[0mpreprocessed\u001b[0m\u001b[0;34m]\u001b[0m\u001b[0;34m\u001b[0m\u001b[0;34m\u001b[0m\u001b[0m\n\u001b[0m\u001b[1;32m     20\u001b[0m         \u001b[0;32mreturn\u001b[0m \u001b[0mids\u001b[0m\u001b[0;34m\u001b[0m\u001b[0;34m\u001b[0m\u001b[0m\n\u001b[1;32m     21\u001b[0m \u001b[0;34m\u001b[0m\u001b[0m\n",
            "\u001b[0;31mKeyError\u001b[0m: 'Hello'"
          ]
        }
      ],
      "source": [
        "tokenizer = SimpleTokenizerV1(vocab)\n",
        "\n",
        "text = \"Hello, do you like tea. Is this-- a test?\"\n",
        "\n",
        "tokenizer.encode(text)"
      ]
    },
    {
      "cell_type": "markdown",
      "id": "dc53ee0c-fe2b-4cd8-a946-5471f7651acf",
      "metadata": {
        "id": "dc53ee0c-fe2b-4cd8-a946-5471f7651acf"
      },
      "source": [
        "- The above produces an error because the word \"Hello\" is not contained in the vocabulary  \n",
        "出错是因为vocab中没有包含“Hello”\n"
      ]
    },
    {
      "cell_type": "markdown",
      "id": "863d6d15-a3e2-44e0-b384-bb37f17cf443",
      "metadata": {
        "id": "863d6d15-a3e2-44e0-b384-bb37f17cf443"
      },
      "source": [
        "- It's useful to add some \"special\" tokens for unknown words and to denote the end of a text  \n",
        "通过特殊 token 来处理未知词汇以及标明文本末尾是很有用的"
      ]
    },
    {
      "cell_type": "markdown",
      "id": "aa7fc96c-e1fd-44fb-b7f5-229d7c7922a4",
      "metadata": {
        "id": "aa7fc96c-e1fd-44fb-b7f5-229d7c7922a4"
      },
      "source": [
        "<img src=\"https://sebastianraschka.com/images/LLMs-from-scratch-images/ch02_compressed/09.webp?123\" width=\"500px\">"
      ]
    },
    {
      "cell_type": "markdown",
      "id": "9d709d57-2486-4152-b7f9-d3e4bd8634cd",
      "metadata": {
        "id": "9d709d57-2486-4152-b7f9-d3e4bd8634cd"
      },
      "source": [
        "- Some tokenizers use special tokens to help the LLM with additional context  \n",
        "下面列举了一些特殊的token，应该是transformer中用的。\n",
        "- Some of these special tokens are\n",
        "  - `[BOS]` (beginning of sequence) marks the beginning of text\n",
        "  - `[EOS]` (end of sequence) marks where the text ends (this is usually used to concatenate multiple unrelated texts, e.g., two different Wikipedia articles or two different books, and so on)\n",
        "  - `[PAD]` (padding) if we train LLMs with a batch size greater than 1 (we may include multiple texts with different lengths; with the padding token we pad the shorter texts to the longest length so that all texts have an equal length)\n",
        "   \n",
        "   不同句子长度不一样，当 batch size（批次） 大于 1 时，用`[PAD]`填充不够长的文本，使每个句子长度一样。  \n",
        "   batch size 就是几个句子打包成一批，进入运算。\n",
        "- `[UNK]` to represent words that are not included in the vocabulary  \n",
        "\n",
        "GPT-2没有使用上述token，只用了`<|endoftext|>`来减少复杂度。`<|endoftext|>`与`[EOS]`类似，都用来表示句子末尾，同时GPT-2也用`<|endoftext|>`来填充，就是也充当了`[PAD]`的功能。\n",
        "- Note that GPT-2 does not need any of these tokens mentioned above but only uses an `<|endoftext|>` token to reduce complexity\n",
        "- The `<|endoftext|>` is analogous to the `[EOS]` token mentioned above\n",
        "- GPT also uses the `<|endoftext|>` for padding (since we typically use a mask when training on batched inputs, we would not attend padded tokens anyways, so it does not matter what these tokens are)\n",
        "- GPT-2 does not use an `<UNK>` token for out-of-vocabulary words; instead, GPT-2 uses a byte-pair encoding (BPE) tokenizer, which breaks down words into subword units which we will discuss in a later section\n",
        "\n"
      ]
    },
    {
      "cell_type": "markdown",
      "source": [
        "![截屏2025-04-18 下午11.49.16.png](data:image/png;base64,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)"
      ],
      "metadata": {
        "id": "OVtmhvPMl93K"
      },
      "id": "OVtmhvPMl93K"
    },
    {
      "cell_type": "markdown",
      "id": "a336b43b-7173-49e7-bd80-527ad4efb271",
      "metadata": {
        "id": "a336b43b-7173-49e7-bd80-527ad4efb271"
      },
      "source": [
        "- We use the `<|endoftext|>` tokens between two independent sources of text:  \n",
        " `<|endoftext|>` 主要是让模型知道文本之间是不相关的。"
      ]
    },
    {
      "cell_type": "markdown",
      "id": "52442951-752c-4855-9752-b121a17fef55",
      "metadata": {
        "id": "52442951-752c-4855-9752-b121a17fef55"
      },
      "source": [
        "<img src=\"https://sebastianraschka.com/images/LLMs-from-scratch-images/ch02_compressed/10.webp\" width=\"500px\">"
      ]
    },
    {
      "cell_type": "markdown",
      "source": [
        "- To deal with such cases, we can add special tokens like `\"<|unk|>\"` to the vocabulary to represent unknown words\n",
        "- Since we are already extending the vocabulary, let's add another token called `\"<|endoftext|>\"` which is used in GPT-2 training to denote the end of a text (and it's also used between concatenated text, like if our training datasets consists of multiple articles, books, etc.)  \n",
        "为了处理上面报错的例子，我们可以把特殊的token `\"<|unk|>\"` 添加到词汇表中  \n",
        "同时，仿照 GPT-2 把 `\"<|endoftext|>\"` 也添加进去，用来表示文本的结束，填充和连接。"
      ],
      "metadata": {
        "id": "GcUaUweYmrxB"
      },
      "id": "GcUaUweYmrxB"
    },
    {
      "cell_type": "code",
      "execution_count": 19,
      "id": "ce9df29c-6c5b-43f1-8c1a-c7f7b79db78f",
      "metadata": {
        "id": "ce9df29c-6c5b-43f1-8c1a-c7f7b79db78f"
      },
      "outputs": [],
      "source": [
        "#添加\"<|endoftext|>\", \"<|unk|>\"到新的词汇表\n",
        "all_tokens = sorted(list(set(preprocessed)))\n",
        "all_tokens.extend([\"<|endoftext|>\", \"<|unk|>\"])\n",
        "\n",
        "vocab = {token:integer for integer,token in enumerate(all_tokens)}"
      ]
    },
    {
      "cell_type": "code",
      "execution_count": 20,
      "id": "57c3143b-e860-4d3b-a22a-de22b547a6a9",
      "metadata": {
        "id": "57c3143b-e860-4d3b-a22a-de22b547a6a9",
        "outputId": "6041e41a-0c2c-418b-d085-af9ed6d0cabe",
        "colab": {
          "base_uri": "https://localhost:8080/"
        }
      },
      "outputs": [
        {
          "output_type": "execute_result",
          "data": {
            "text/plain": [
              "1132"
            ]
          },
          "metadata": {},
          "execution_count": 20
        }
      ],
      "source": [
        "len(vocab.items())"
      ]
    },
    {
      "cell_type": "markdown",
      "source": [
        "多了两个词，之前词典（vocab）的长度是1130，多出来的是 \"<|endoftext|>\", \"<|unk|>\"\\"
      ],
      "metadata": {
        "id": "yHG6gFkmkA5p"
      },
      "id": "yHG6gFkmkA5p"
    },
    {
      "cell_type": "code",
      "execution_count": 21,
      "id": "50e51bb1-ae05-4aa8-a9ff-455b65ed1959",
      "metadata": {
        "id": "50e51bb1-ae05-4aa8-a9ff-455b65ed1959",
        "outputId": "7651f317-ce50-4301-ea73-49cd724ad4ee",
        "colab": {
          "base_uri": "https://localhost:8080/"
        }
      },
      "outputs": [
        {
          "output_type": "stream",
          "name": "stdout",
          "text": [
            "('younger', 1127)\n",
            "('your', 1128)\n",
            "('yourself', 1129)\n",
            "('<|endoftext|>', 1130)\n",
            "('<|unk|>', 1131)\n"
          ]
        }
      ],
      "source": [
        "#展示扩展后的vocab中的token和token ID的对应\n",
        "for i, item in enumerate(list(vocab.items())[-5:]):\n",
        "    print(item)"
      ]
    },
    {
      "cell_type": "markdown",
      "id": "a1daa2b0-6e75-412b-ab53-1f6fb7b4d453",
      "metadata": {
        "id": "a1daa2b0-6e75-412b-ab53-1f6fb7b4d453"
      },
      "source": [
        "- We also need to adjust the tokenizer accordingly so that it knows when and how to use the new `<unk>` token  \n",
        "调整 tokenizer，使得新的 tokenizer 知道什么时候用新的 token `<unk>`"
      ]
    },
    {
      "cell_type": "code",
      "execution_count": 22,
      "id": "948861c5-3f30-4712-a234-725f20d26f68",
      "metadata": {
        "id": "948861c5-3f30-4712-a234-725f20d26f68"
      },
      "outputs": [],
      "source": [
        "#定义新的类SimpleTokenizerV2，能够把 vocab 中没有的词标记为 `<unk>`\n",
        "class SimpleTokenizerV2:\n",
        "    def __init__(self, vocab):\n",
        "        self.str_to_int = vocab\n",
        "        self.int_to_str = { i:s for s,i in vocab.items()}\n",
        "\n",
        "    def encode(self, text):\n",
        "        preprocessed = re.split(r'([,.:;?_!\"()\\']|--|\\s)', text)\n",
        "        preprocessed = [item.strip() for item in preprocessed if item.strip()]\n",
        "        #token 不在 vocab 中的时候用 \"<|unk|>\"\n",
        "        preprocessed = [\n",
        "            item if item in self.str_to_int\n",
        "            else \"<|unk|>\" for item in preprocessed\n",
        "        ]\n",
        "\n",
        "        ids = [self.str_to_int[s] for s in preprocessed]\n",
        "        return ids\n",
        "\n",
        "    def decode(self, ids):\n",
        "        text = \" \".join([self.int_to_str[i] for i in ids])\n",
        "        # Replace spaces before the specified punctuations\n",
        "        text = re.sub(r'\\s+([,.:;?!\"()\\'])', r'\\1', text)\n",
        "        return text"
      ]
    },
    {
      "cell_type": "markdown",
      "id": "aa728dd1-9d35-4ac7-938f-d411d73083f6",
      "metadata": {
        "id": "aa728dd1-9d35-4ac7-938f-d411d73083f6"
      },
      "source": [
        "Let's try to tokenize text with the modified tokenizer:  \n",
        "现在用新的 tokenizer 来 tokenize 文本"
      ]
    },
    {
      "cell_type": "code",
      "execution_count": 23,
      "id": "4133c502-18ac-4412-9f43-01caf4efa3dc",
      "metadata": {
        "id": "4133c502-18ac-4412-9f43-01caf4efa3dc",
        "outputId": "27538727-3f1d-4484-e6c6-8977f6504f57",
        "colab": {
          "base_uri": "https://localhost:8080/"
        }
      },
      "outputs": [
        {
          "output_type": "stream",
          "name": "stdout",
          "text": [
            "Hello, do you like tea? <|endoftext|> In the sunlit terraces of the palace.\n"
          ]
        }
      ],
      "source": [
        "#用新的 tokenizer\n",
        "tokenizer = SimpleTokenizerV2(vocab)\n",
        "\n",
        "#新的文本中包含 vocab 中没有的单词（\"Hello\"），以及文本间的连接（\" <|endoftext|> \"）\n",
        "text1 = \"Hello, do you like tea?\"\n",
        "text2 = \"In the sunlit terraces of the palace.\"\n",
        "\n",
        "text = \" <|endoftext|> \".join((text1, text2))\n",
        "\n",
        "print(text)"
      ]
    },
    {
      "cell_type": "code",
      "execution_count": 24,
      "id": "7ed395fe-dc1b-4ed2-b85b-457cc35aab60",
      "metadata": {
        "id": "7ed395fe-dc1b-4ed2-b85b-457cc35aab60",
        "outputId": "15446bea-6351-447a-8784-05398a303ff6",
        "colab": {
          "base_uri": "https://localhost:8080/"
        }
      },
      "outputs": [
        {
          "output_type": "execute_result",
          "data": {
            "text/plain": [
              "[1131, 5, 355, 1126, 628, 975, 10, 1130, 55, 988, 956, 984, 722, 988, 1131, 7]"
            ]
          },
          "metadata": {},
          "execution_count": 24
        }
      ],
      "source": [
        "tokenizer.encode(text)"
      ]
    },
    {
      "cell_type": "code",
      "execution_count": 25,
      "id": "059367f9-7a60-4c0d-8a00-7c4c766d0ebc",
      "metadata": {
        "id": "059367f9-7a60-4c0d-8a00-7c4c766d0ebc",
        "outputId": "953171da-0742-47c5-b77b-aec86f2ae488",
        "colab": {
          "base_uri": "https://localhost:8080/",
          "height": 35
        }
      },
      "outputs": [
        {
          "output_type": "execute_result",
          "data": {
            "text/plain": [
              "'<|unk|>, do you like tea? <|endoftext|> In the sunlit terraces of the <|unk|>.'"
            ],
            "application/vnd.google.colaboratory.intrinsic+json": {
              "type": "string"
            }
          },
          "metadata": {},
          "execution_count": 25
        }
      ],
      "source": [
        "tokenizer.decode(tokenizer.encode(text))"
      ]
    },
    {
      "cell_type": "markdown",
      "source": [
        "可以看到新的 tokenizer 工作的很好"
      ],
      "metadata": {
        "id": "oso31jI2oY1E"
      },
      "id": "oso31jI2oY1E"
    },
    {
      "cell_type": "markdown",
      "id": "5c4ba34b-170f-4e71-939b-77aabb776f14",
      "metadata": {
        "id": "5c4ba34b-170f-4e71-939b-77aabb776f14"
      },
      "source": [
        "## 2.5 BytePair encoding"
      ]
    },
    {
      "cell_type": "markdown",
      "id": "2309494c-79cf-4a2d-bc28-a94d602f050e",
      "metadata": {
        "id": "2309494c-79cf-4a2d-bc28-a94d602f050e"
      },
      "source": [
        "- GPT-2 used BytePair encoding (BPE) as its tokenizer  \n",
        "GPT-2 使用 BytePair encoding(BPE)作为其分词器(tokenizer)  \n",
        "\n",
        "- it allows the model to break down words that aren't in its predefined vocabulary into smaller subword units or even individual characters, enabling it to handle out-of-vocabulary words  \n",
        "BPE把单词拆分成更小的字词，或者词元，这样能够处理表外单词。也就是能处理没有在预先定义的词汇表中的单词。\n",
        "\n",
        "- For instance, if GPT-2's vocabulary doesn't have the word \"unfamiliarword,\" it might tokenize it as [\"unfam\", \"iliar\", \"word\"] or some other subword breakdown, depending on its trained BPE merges  \n",
        "举例来说，如果 \"unfamiliarword\" 不在 GPT-2 的词汇表中，它可能会被分词为[\"unfam\", \"iliar\", \"word\"]或其他子词组合，具体取决于BPE训练时学到的合并规则\n",
        "\n",
        "- The original BPE tokenizer can be found here: [https://github.com/openai/gpt-2/blob/master/src/encoder.py](https://github.com/openai/gpt-2/blob/master/src/encoder.py)  \n",
        "原始的 BPE 分词器代码链接  \n",
        "\n",
        "- In this chapter, we are using the BPE tokenizer from OpenAI's open-source [tiktoken](https://github.com/openai/tiktoken) library, which implements its core algorithms in Rust to improve computational performance  \n",
        "这个程序使用了 OpenAI 开源的 tiktoken 库中的 BPE 分词器，该库使用 Rust 实现核心算法以提高计算性能\n",
        "\n",
        "- I created a notebook in the [./bytepair_encoder](../02_bonus_bytepair-encoder) that compares these two implementations side-by-side (tiktoken was about 5x faster on the sample text)  \n",
        "作者创建了一个比较这两种实现(原始 Python 版本和 tiktoken )的笔记本，发现在样本文本上tiktoken 大约快5倍"
      ]
    },
    {
      "cell_type": "code",
      "execution_count": 26,
      "id": "ede1d41f-934b-4bf4-8184-54394a257a94",
      "metadata": {
        "id": "ede1d41f-934b-4bf4-8184-54394a257a94"
      },
      "outputs": [],
      "source": [
        "# pip install tiktoken"
      ]
    },
    {
      "cell_type": "code",
      "execution_count": 27,
      "id": "48967a77-7d17-42bf-9e92-fc619d63a59e",
      "metadata": {
        "id": "48967a77-7d17-42bf-9e92-fc619d63a59e",
        "outputId": "82f34048-f4de-4baa-c724-a3d0542fc70c",
        "colab": {
          "base_uri": "https://localhost:8080/"
        }
      },
      "outputs": [
        {
          "output_type": "stream",
          "name": "stdout",
          "text": [
            "tiktoken version: 0.9.0\n"
          ]
        }
      ],
      "source": [
        "import importlib\n",
        "import tiktoken\n",
        "\n",
        "print(\"tiktoken version:\", importlib.metadata.version(\"tiktoken\"))"
      ]
    },
    {
      "cell_type": "markdown",
      "source": [
        "BPE 这个 tokenizer 使用方法和前面的 SimpleTokenizerV2 使用方法类似"
      ],
      "metadata": {
        "id": "jJXB8B55bpop"
      },
      "id": "jJXB8B55bpop"
    },
    {
      "cell_type": "code",
      "execution_count": 28,
      "id": "6ad3312f-a5f7-4efc-9d7d-8ea09d7b5128",
      "metadata": {
        "id": "6ad3312f-a5f7-4efc-9d7d-8ea09d7b5128"
      },
      "outputs": [],
      "source": [
        "#用 GPT-2 的 tiktoken 库的 BPE 做分词器（tokenizer）\n",
        "tokenizer = tiktoken.get_encoding(\"gpt2\")"
      ]
    },
    {
      "cell_type": "code",
      "execution_count": 29,
      "id": "5ff2cd85-7cfb-4325-b390-219938589428",
      "metadata": {
        "id": "5ff2cd85-7cfb-4325-b390-219938589428",
        "outputId": "7c7b1aaa-4533-4eb8-9f53-063926f15cad",
        "colab": {
          "base_uri": "https://localhost:8080/"
        }
      },
      "outputs": [
        {
          "output_type": "stream",
          "name": "stdout",
          "text": [
            "[15496, 11, 466, 345, 588, 8887, 30, 220, 50256, 554, 262, 4252, 18250, 8812, 2114, 1659, 617, 34680, 27271, 13]\n"
          ]
        }
      ],
      "source": [
        "#encoding\n",
        "text = (\n",
        "    \"Hello, do you like tea? <|endoftext|> In the sunlit terraces\"\n",
        "     \"of someunknownPlace.\"\n",
        ")\n",
        "\n",
        "integers = tokenizer.encode(text, allowed_special={\"<|endoftext|>\"})\n",
        "# allowed_special={\"<|endoftext|>\"} 参数指定允许处理的特殊标记。如果不指定这个参数，分词器可能会把 <|endoftext|> 当作普通文本处理。\n",
        "\n",
        "print(integers)"
      ]
    },
    {
      "cell_type": "code",
      "source": [
        "[print(tokenizer.decode([i])) for i in integers]"
      ],
      "metadata": {
        "id": "rH_kaKYhkEwr",
        "outputId": "90116aeb-9a6f-417b-c1b7-21c7332c16af",
        "colab": {
          "base_uri": "https://localhost:8080/"
        }
      },
      "id": "rH_kaKYhkEwr",
      "execution_count": 30,
      "outputs": [
        {
          "output_type": "stream",
          "name": "stdout",
          "text": [
            "Hello\n",
            ",\n",
            " do\n",
            " you\n",
            " like\n",
            " tea\n",
            "?\n",
            " \n",
            "<|endoftext|>\n",
            " In\n",
            " the\n",
            " sun\n",
            "lit\n",
            " terr\n",
            "aces\n",
            "of\n",
            " some\n",
            "unknown\n",
            "Place\n",
            ".\n"
          ]
        },
        {
          "output_type": "execute_result",
          "data": {
            "text/plain": [
              "[None,\n",
              " None,\n",
              " None,\n",
              " None,\n",
              " None,\n",
              " None,\n",
              " None,\n",
              " None,\n",
              " None,\n",
              " None,\n",
              " None,\n",
              " None,\n",
              " None,\n",
              " None,\n",
              " None,\n",
              " None,\n",
              " None,\n",
              " None,\n",
              " None,\n",
              " None]"
            ]
          },
          "metadata": {},
          "execution_count": 30
        }
      ]
    },
    {
      "cell_type": "markdown",
      "source": [
        "关于 BPE 分词器处理文本的两个关键特点：\n",
        "\n",
        "1. **特殊标记位置**：`<|endoftext|>`标记被分配了较大的token ID(50256)。BPE分词器(用于GPT-2/3和原始ChatGPT模型)总词汇量为50,257个token，`<|endoftext|>`占用最大ID。\n",
        "\n",
        "2. **处理未知词**：BPE分词器能正确编码和解码如\"someunknownPlace\"这样的未知词汇，无需使用`<|unk|>`标记。它通过将未知词分解为已知的子词单元或单个字符来实现这一功能，使模型能处理任何未见过的词汇。"
      ],
      "metadata": {
        "id": "wygnuv9Xb-Xe"
      },
      "id": "wygnuv9Xb-Xe"
    },
    {
      "cell_type": "code",
      "execution_count": 31,
      "id": "d26a48bb-f82e-41a8-a955-a1c9cf9d50ab",
      "metadata": {
        "id": "d26a48bb-f82e-41a8-a955-a1c9cf9d50ab",
        "outputId": "bfd990a0-9a16-4d9d-c509-165e2f3a867a",
        "colab": {
          "base_uri": "https://localhost:8080/"
        }
      },
      "outputs": [
        {
          "output_type": "stream",
          "name": "stdout",
          "text": [
            "Hello, do you like tea? <|endoftext|> In the sunlit terracesof someunknownPlace.\n"
          ]
        }
      ],
      "source": [
        "#decoding\n",
        "strings = tokenizer.decode(integers)\n",
        "\n",
        "print(strings)"
      ]
    },
    {
      "cell_type": "markdown",
      "id": "e8c2e7b4-6a22-42aa-8e4d-901f06378d4a",
      "metadata": {
        "id": "e8c2e7b4-6a22-42aa-8e4d-901f06378d4a"
      },
      "source": [
        "- BPE tokenizers break down unknown words into subwords and individual characters:"
      ]
    },
    {
      "cell_type": "markdown",
      "id": "c082d41f-33d7-4827-97d8-993d5a84bb3c",
      "metadata": {
        "id": "c082d41f-33d7-4827-97d8-993d5a84bb3c"
      },
      "source": [
        "<img src=\"https://sebastianraschka.com/images/LLMs-from-scratch-images/ch02_compressed/11.webp\" width=\"300px\">"
      ]
    },
    {
      "cell_type": "markdown",
      "source": [
        "本书没有详解BPE(字节对编码)的原理，但是可以简单了解下  \n",
        "\n",
        "BPE(字节对编码)的工作原理简述：\n",
        "\n",
        "1. **构建词汇表的迭代过程**：\n",
        "   * 初始阶段：将所有单个字符添加到词汇表中(\"a\", \"b\", ...)\n",
        "   * 迭代合并：根据频率将常见的字符组合合并成子词\n",
        "   * 例如：\"d\"和\"e\"可能合并成子词\"de\"，因为它在英语单词如\"define\"、\"depend\"、\"made\"和\"hidden\"中频繁出现\n",
        "\n",
        "2. **合并规则**：\n",
        "   * 基于频率阈值决定哪些字符组合被合并\n",
        "   * 通过统计分析语料库中的组合频率来确定合并优先级\n",
        "\n",
        "这种方法使BPE能够将任何未知词分解为已知的子词单位，解决了词汇表外单词的处理问题，同时保持了词汇表的合理大小。"
      ],
      "metadata": {
        "id": "la-O6KsAc0re"
      },
      "id": "la-O6KsAc0re"
    },
    {
      "cell_type": "markdown",
      "id": "abbd7c0d-70f8-4386-a114-907e96c950b0",
      "metadata": {
        "id": "abbd7c0d-70f8-4386-a114-907e96c950b0"
      },
      "source": [
        "## 2.6 Data sampling with a sliding window"
      ]
    },
    {
      "cell_type": "markdown",
      "id": "509d9826-6384-462e-aa8a-a7c73cd6aad0",
      "metadata": {
        "id": "509d9826-6384-462e-aa8a-a7c73cd6aad0"
      },
      "source": [
        "- We train LLMs to generate one word at a time, so we want to prepare the training data accordingly where the next word in a sequence represents the target to predict:"
      ]
    },
    {
      "cell_type": "markdown",
      "source": [
        "产生训练 LLM 需要的 输入-目标对（input-target pairs）（看下图）"
      ],
      "metadata": {
        "id": "MH4P76Nnd5_S"
      },
      "id": "MH4P76Nnd5_S"
    },
    {
      "cell_type": "markdown",
      "source": [
        "本节实现一个数据加载器（data loader），该加载器使用滑动窗口方法从训练数据集中提取输入-目标对。\n",
        "\n",
        "具体来说：\n",
        "\n",
        "1. **数据加载器（data loader）**：\n",
        "   - 这是一个程序组件，负责从数据集中读取数据并准备为模型训练所需的格式\n",
        "\n",
        "2. **输入-目标对（input-target pairs）**：\n",
        "   - 这是监督学习中的数据格式，其中\"输入\"是提供给模型的数据，\"目标\"是模型应该预测的数据（\n",
        "\n",
        "3. **滑动窗口方法（sliding window approach）**：\n",
        "   - 这是一种处理序列数据的技术\n",
        "   - 在语言模型训练中，通常指在文本上\"滑动\"一个固定大小的窗口\n",
        "   - 窗口内的前面部分作为输入，后面部分作为预测目标\n",
        "   - 然后窗口向前移动一定步长，提取下一个输入-目标对\n",
        "\n",
        "这种方法允许从连续文本中创建多个训练样本，最大化数据利用率，同时使模型学习预测序列中的下一个元素。"
      ],
      "metadata": {
        "id": "Iyr9Evy8ejaa"
      },
      "id": "Iyr9Evy8ejaa"
    },
    {
      "cell_type": "markdown",
      "id": "39fb44f4-0c43-4a6a-9c2f-9cf31452354c",
      "metadata": {
        "id": "39fb44f4-0c43-4a6a-9c2f-9cf31452354c"
      },
      "source": [
        "<img src=\"https://sebastianraschka.com/images/LLMs-from-scratch-images/ch02_compressed/12.webp\" width=\"400px\">"
      ]
    },
    {
      "cell_type": "code",
      "execution_count": 33,
      "id": "848d5ade-fd1f-46c3-9e31-1426e315c71b",
      "metadata": {
        "id": "848d5ade-fd1f-46c3-9e31-1426e315c71b",
        "outputId": "869117ec-1e20-4ba6-879e-a4bc4bb9a2fd",
        "colab": {
          "base_uri": "https://localhost:8080/"
        }
      },
      "outputs": [
        {
          "output_type": "stream",
          "name": "stdout",
          "text": [
            "5145\n"
          ]
        }
      ],
      "source": [
        "#首先 tokenize 之前的 The Verdict short story 全文\n",
        "with open(\"the-verdict.txt\", \"r\", encoding=\"utf-8\") as f:\n",
        "    raw_text = f.read()\n",
        "#这里的 tokenizer 还是2.4中用的 BPE\n",
        "enc_text = tokenizer.encode(raw_text)\n",
        "#打印编码后的 token 序列长度\n",
        "print(len(enc_text))"
      ]
    },
    {
      "cell_type": "markdown",
      "source": [
        "BPE token 是 5145，回忆下之前直接分词的 token 数量是4690  \n",
        "BPE的多是因为提取了词元"
      ],
      "metadata": {
        "id": "6KX-fYAxgDXf"
      },
      "id": "6KX-fYAxgDXf"
    },
    {
      "cell_type": "markdown",
      "id": "cebd0657-5543-43ca-8011-2ae6bd0a5810",
      "metadata": {
        "id": "cebd0657-5543-43ca-8011-2ae6bd0a5810"
      },
      "source": [
        "- For each text chunk, we want the inputs and targets\n",
        "- Since we want the model to predict the next word, the targets are the inputs shifted by one position to the right"
      ]
    },
    {
      "cell_type": "markdown",
      "source": [
        "从数据集中移除前50个 token （即标记或词元）。  \n",
        "这是一个为了演示目的而进行的操作，移除这些 token 的原因是让后续步骤中的文本段落更有趣或更具代表性。可能因为数据集开头包含一些标题、元数据或不太有代表性的内容。"
      ],
      "metadata": {
        "id": "_1-1AUVggs-L"
      },
      "id": "_1-1AUVggs-L"
    },
    {
      "cell_type": "code",
      "execution_count": 34,
      "id": "e84424a7-646d-45b6-99e3-80d15fb761f2",
      "metadata": {
        "id": "e84424a7-646d-45b6-99e3-80d15fb761f2"
      },
      "outputs": [],
      "source": [
        "enc_sample = enc_text[50:]"
      ]
    },
    {
      "cell_type": "markdown",
      "source": [
        "为\"下一个词预测任务\"创建输入-目标对的一种简单直观方法：\n",
        "\n",
        "创建两个变量：x和y\n",
        "- x：包含输入 tokens\n",
        "- y：包含目标 tokens，实际上就是将输入序列向右移动1位\n",
        "\n",
        "这种方法的本质是让模型学习从上下文(x)预测下一个词(y)。通过将整个序列分别向右错开一位，可以轻松构建这种训练模式，使模型能够学习文本中的序列关系。\n",
        "\n",
        "例如，如果原始 token 序列是[A,B,C,D,E]：\n",
        "- 输入x会是：[A,B,C,D]\n",
        "- 目标y会是：[B,C,D,E]\n",
        "\n",
        "这样模型就会学习：\n",
        "- 看到 A，预测 B\n",
        "- 看到 A,B，预测 C\n",
        "- 看到 A,B,C，预测 D\n",
        "- 看到 A,B,C,D，预测 E\n",
        "\n",
        "这是训练语言模型的基本技术之一。"
      ],
      "metadata": {
        "id": "Nr4cEdhehTSf"
      },
      "id": "Nr4cEdhehTSf"
    },
    {
      "cell_type": "code",
      "execution_count": 35,
      "id": "dfbff852-a92f-48c8-a46d-143a0f109f40",
      "metadata": {
        "id": "dfbff852-a92f-48c8-a46d-143a0f109f40",
        "outputId": "698f6730-8f8e-4e90-e44f-adf016906606",
        "colab": {
          "base_uri": "https://localhost:8080/"
        }
      },
      "outputs": [
        {
          "output_type": "stream",
          "name": "stdout",
          "text": [
            "x: [290, 4920, 2241, 287]\n",
            "y:      [4920, 2241, 287, 257]\n"
          ]
        }
      ],
      "source": [
        "#构建输入tokens x；输出tokens y\n",
        "context_size = 4\n",
        "\n",
        "x = enc_sample[:context_size]\n",
        "y = enc_sample[1:context_size+1]\n",
        "\n",
        "print(f\"x: {x}\")\n",
        "print(f\"y:      {y}\")"
      ]
    },
    {
      "cell_type": "markdown",
      "id": "815014ef-62f7-4476-a6ad-66e20e42b7c3",
      "metadata": {
        "id": "815014ef-62f7-4476-a6ad-66e20e42b7c3"
      },
      "source": [
        "- One by one, the prediction would look like as follows:"
      ]
    },
    {
      "cell_type": "code",
      "execution_count": 36,
      "id": "d97b031e-ed55-409d-95f2-aeb38c6fe366",
      "metadata": {
        "id": "d97b031e-ed55-409d-95f2-aeb38c6fe366",
        "outputId": "b0d45a86-95d5-4274-9cc3-14e6ad3f38ae",
        "colab": {
          "base_uri": "https://localhost:8080/"
        }
      },
      "outputs": [
        {
          "output_type": "stream",
          "name": "stdout",
          "text": [
            "[290] ----> 4920\n",
            "[290, 4920] ----> 2241\n",
            "[290, 4920, 2241] ----> 287\n",
            "[290, 4920, 2241, 287] ----> 257\n"
          ]
        }
      ],
      "source": [
        "#输入输出数据举例\n",
        "for i in range(1, context_size+1):\n",
        "    context = enc_sample[:i]\n",
        "    desired = enc_sample[i]\n",
        "\n",
        "    print(context, \"---->\", desired)"
      ]
    },
    {
      "cell_type": "markdown",
      "source": [
        "箭头(---->)左边的所有内容指的是大语言模型(LLM)将接收的输入，而箭头右边的token ID代表LLM应该预测的目标token ID。"
      ],
      "metadata": {
        "id": "bsLl_04jiTAk"
      },
      "id": "bsLl_04jiTAk"
    },
    {
      "cell_type": "code",
      "execution_count": 37,
      "id": "f57bd746-dcbf-4433-8e24-ee213a8c34a1",
      "metadata": {
        "id": "f57bd746-dcbf-4433-8e24-ee213a8c34a1",
        "outputId": "5fc97cd3-8042-4f57-97cd-db2f060aab18",
        "colab": {
          "base_uri": "https://localhost:8080/"
        }
      },
      "outputs": [
        {
          "output_type": "stream",
          "name": "stdout",
          "text": [
            " and ---->  established\n",
            " and established ---->  himself\n",
            " and established himself ---->  in\n",
            " and established himself in ---->  a\n"
          ]
        }
      ],
      "source": [
        "#输入输出文本举例（就是token ID decode了）\n",
        "for i in range(1, context_size+1):\n",
        "    context = enc_sample[:i]\n",
        "    desired = enc_sample[i]\n",
        "\n",
        "    print(tokenizer.decode(context), \"---->\", tokenizer.decode([desired]))"
      ]
    },
    {
      "cell_type": "markdown",
      "source": [
        "为了更好的演示效果，这里是输入输出对的文本演示（实际上 LLM 接受和输出的应该是上一个框中的 token ID形式"
      ],
      "metadata": {
        "id": "HoANKiphiW2_"
      },
      "id": "HoANKiphiW2_"
    },
    {
      "cell_type": "markdown",
      "source": [
        "现在，需要的输入-目标对（input-target pairs）就构建好了"
      ],
      "metadata": {
        "id": "HV3YgDIwipMH"
      },
      "id": "HV3YgDIwipMH"
    },
    {
      "cell_type": "markdown",
      "id": "210d2dd9-fc20-4927-8d3d-1466cf41aae1",
      "metadata": {
        "id": "210d2dd9-fc20-4927-8d3d-1466cf41aae1"
      },
      "source": [
        "- We will take care of the next-word prediction in a later chapter after we covered the attention mechanism  \n",
        "- 我们将在介绍完注意力机制后的后续章节中处理下一个词的预测\n",
        "\n",
        "- For now, we implement a simple data loader that iterates over the input dataset and returns the inputs and targets shifted by one  \n",
        "- 现在，我们实现一个简单的数据加载器，它遍历输入数据集并返回输入和向后移动一位的目标"
      ]
    },
    {
      "cell_type": "markdown",
      "id": "a1a1b47a-f646-49d1-bc70-fddf2c840796",
      "metadata": {
        "id": "a1a1b47a-f646-49d1-bc70-fddf2c840796"
      },
      "source": [
        "- Install and import PyTorch (see Appendix A for installation tips)"
      ]
    },
    {
      "cell_type": "code",
      "execution_count": 38,
      "id": "e1770134-e7f3-4725-a679-e04c3be48cac",
      "metadata": {
        "id": "e1770134-e7f3-4725-a679-e04c3be48cac",
        "outputId": "92c04b0b-b6d0-4c25-944b-087177d6bb67",
        "colab": {
          "base_uri": "https://localhost:8080/"
        }
      },
      "outputs": [
        {
          "output_type": "stream",
          "name": "stdout",
          "text": [
            "PyTorch version: 2.6.0+cu124\n"
          ]
        }
      ],
      "source": [
        "import torch\n",
        "print(\"PyTorch version:\", torch.__version__)"
      ]
    },
    {
      "cell_type": "markdown",
      "id": "0c9a3d50-885b-49bc-b791-9f5cc8bc7b7c",
      "metadata": {
        "id": "0c9a3d50-885b-49bc-b791-9f5cc8bc7b7c"
      },
      "source": [
        "- We use a sliding window approach, changing the position by +1:\n",
        "\n",
        "<img src=\"https://sebastianraschka.com/images/LLMs-from-scratch-images/ch02_compressed/13.webp?123\" width=\"500px\">"
      ]
    },
    {
      "cell_type": "markdown",
      "id": "92ac652d-7b38-4843-9fbd-494cdc8ec12c",
      "metadata": {
        "id": "92ac652d-7b38-4843-9fbd-494cdc8ec12c"
      },
      "source": [
        "- Create dataset and dataloader that extract chunks from the input text dataset"
      ]
    },
    {
      "cell_type": "markdown",
      "source": [
        "这个内容补充下（PyTorch Dataset classes）\n",
        "\n",
        "If you are new to the structure of PyTorch Dataset classes, such as shown in listing 2.5, please read section A.6, Setting up efficient data loaders, in Appendix A, which explains the general structure and usage of PyTorch Dataset and DataLoader classes."
      ],
      "metadata": {
        "id": "fcbVJZ-2wt8O"
      },
      "id": "fcbVJZ-2wt8O"
    },
    {
      "cell_type": "code",
      "execution_count": 39,
      "id": "74b41073-4c9f-46e2-a1bd-d38e4122b375",
      "metadata": {
        "id": "74b41073-4c9f-46e2-a1bd-d38e4122b375"
      },
      "outputs": [],
      "source": [
        "from torch.utils.data import Dataset, DataLoader\n",
        "\n",
        "#定义数据集类 GPTDatasetV1，用于处理文本数据以训练GPT类型的语言模型。\n",
        "class GPTDatasetV1(Dataset):\n",
        "\n",
        "  #构造函数接收四个参数：\n",
        "    #txt: 原始文本内容\n",
        "    #tokenizer: 分词器对象，用于将文本转换为token ID\n",
        "    #max_length: 每个训练序列的最大长度\n",
        "    #stride: 滑动窗口的步长，控制序列之间的重叠程度\n",
        "    def __init__(self, txt, tokenizer, max_length, stride):\n",
        "        self.input_ids = []#初始化列表用于存储输入序列\n",
        "        self.target_ids = []#初始化列表用于存储目标序列\n",
        "\n",
        "        # Tokenize the entire text\n",
        "        token_ids = tokenizer.encode(txt, allowed_special={\"<|endoftext|>\"})\n",
        "        assert len(token_ids) > max_length, \"Number of tokenized inputs must at least be equal to max_length+1\"\n",
        "        #确保编码后的 token 数量足够多，至少比 max_length 长，否则无法创建有效的输入-目标对。\n",
        "\n",
        "        # Use a sliding window to chunk the book into overlapping sequences of max_length\n",
        "        for i in range(0, len(token_ids) - max_length, stride): #从索引0开始，以stride为步长遍历token序列\n",
        "            input_chunk = token_ids[i:i + max_length]\n",
        "            target_chunk = token_ids[i + 1: i + max_length + 1]\n",
        "            self.input_ids.append(torch.tensor(input_chunk))\n",
        "            self.target_ids.append(torch.tensor(target_chunk))\n",
        "        #对于每个位置i：\n",
        "        #input_chunk取 i 到 i+max_length 的 token，长度为 max_length\n",
        "        #target_chunk 取 i+1 到 i+max_length+1 的 token，也是长度为max_length\n",
        "        #注意 target_chunk 比 input_chunk 向后偏移了1个位置\n",
        "\n",
        "        #将切分的序列转换为 PyTorch 张量并存储\n",
        "\n",
        "    def __len__(self):\n",
        "      #返回数据集的大小（样本数量）。\n",
        "        return len(self.input_ids)\n",
        "\n",
        "    def __getitem__(self, idx):\n",
        "      #获取指定索引的样本，返回一个元组：(输入序列, 目标序列)。\n",
        "        return self.input_ids[idx], self.target_ids[idx]"
      ]
    },
    {
      "cell_type": "code",
      "execution_count": 40,
      "id": "5eb30ebe-97b3-43c5-9ff1-a97d621b3c4e",
      "metadata": {
        "id": "5eb30ebe-97b3-43c5-9ff1-a97d621b3c4e"
      },
      "outputs": [],
      "source": [
        "#定义数据加载器，封装了从原始文本到训练数据加载器的完整过程\n",
        "def create_dataloader_v1(txt, batch_size=4, max_length=256,\n",
        "                         stride=128, shuffle=True, drop_last=True,\n",
        "                         num_workers=0):\n",
        "#函数接收的参数：\n",
        "\n",
        "#txt: 原始文本数据，将被处理成训练样本\n",
        "#batch_size=4: 每个批次包含的样本数量，默认为4\n",
        "#max_length=256: 每个序列的最大长度（token数量），默认为256\n",
        "#stride=128: 滑动窗口的步长，控制序列之间的重叠程度，默认为128\n",
        "#shuffle=True: 是否在每个epoch随机打乱数据，默认为True\n",
        "#drop_last=True: 如果最后一个批次的样本数小于batch_size，是否丢弃，默认为True\n",
        "#num_workers=0: 用于数据加载的子进程数量，默认为0（不使用多进程）\n",
        "\n",
        "    # Initialize the tokenizer\n",
        "    tokenizer = tiktoken.get_encoding(\"gpt2\")\n",
        "\n",
        "    # Create dataset\n",
        "    dataset = GPTDatasetV1(txt, tokenizer, max_length, stride)\n",
        "\n",
        "    # Create dataloader\n",
        "    #创建一个 PyTorch 的 DataLoader 对象，它负责从数据集中批量加载数据。\n",
        "    dataloader = DataLoader(\n",
        "        dataset,#前面创建的数据集对象\n",
        "        batch_size=batch_size,#每次加载的样本数量\n",
        "        shuffle=shuffle,#如果为True，每个epoch会随机打乱数据顺序，这有助于模型的泛化能力\n",
        "        drop_last=drop_last,#如果为True，当样本数不能被batch_size整除时，会丢弃最后一个不完整的批次\n",
        "        num_workers=num_workers#用于数据加载的子进程数量，提高加载效率\n",
        "    )\n",
        "\n",
        "    return dataloader"
      ]
    },
    {
      "cell_type": "markdown",
      "id": "42dd68ef-59f7-45ff-ba44-e311c899ddcd",
      "metadata": {
        "id": "42dd68ef-59f7-45ff-ba44-e311c899ddcd"
      },
      "source": [
        "- Let's test the dataloader with a batch size of 1 for an LLM with a context size of 4:  \n",
        "测试 dataloader， batch size 为1， context size 为4"
      ]
    },
    {
      "cell_type": "code",
      "execution_count": 41,
      "id": "df31d96c-6bfd-4564-a956-6192242d7579",
      "metadata": {
        "id": "df31d96c-6bfd-4564-a956-6192242d7579"
      },
      "outputs": [],
      "source": [
        "#导入文本\n",
        "with open(\"the-verdict.txt\", \"r\", encoding=\"utf-8\") as f:\n",
        "    raw_text = f.read()"
      ]
    },
    {
      "cell_type": "code",
      "execution_count": 42,
      "id": "9226d00c-ad9a-4949-a6e4-9afccfc7214f",
      "metadata": {
        "id": "9226d00c-ad9a-4949-a6e4-9afccfc7214f",
        "outputId": "3fc62a68-6fc7-43be-99a8-a1ad5bebd9c0",
        "colab": {
          "base_uri": "https://localhost:8080/"
        }
      },
      "outputs": [
        {
          "output_type": "stream",
          "name": "stdout",
          "text": [
            "[tensor([[  40,  367, 2885, 1464]]), tensor([[ 367, 2885, 1464, 1807]])]\n"
          ]
        }
      ],
      "source": [
        "#测试 dataloader\n",
        "dataloader = create_dataloader_v1(\n",
        "    raw_text, batch_size=1, max_length=4, stride=1, shuffle=False\n",
        ")\n",
        "\n",
        "data_iter = iter(dataloader)# 将数据加载器转换为一个迭代器，这样就可以逐批次访问数据\n",
        "#iter() 是 Python 内置函数，用于将一个可迭代对象（iterable）转换为迭代器（iterator）。\n",
        "#启用顺序访问：迭代器允许我们使用 next() 函数一次获取一个元素\n",
        "#状态跟踪：迭代器会记住当前访问的位置，每次调用 next() 都会返回序列中的下一个元素\n",
        "\n",
        "first_batch = next(data_iter)# 从迭代器中获取第一个批次的数据\n",
        "print(first_batch)# 打印出这个批次的内容"
      ]
    },
    {
      "cell_type": "code",
      "source": [
        "#测试 dataloader\n",
        "dataloader = create_dataloader_v1(\n",
        "    raw_text, batch_size=2, max_length=4, stride=1, shuffle=False\n",
        ")\n",
        "\n",
        "data_iter = iter(dataloader)# 将数据加载器转换为一个迭代器，这样就可以逐批次访问数据\n",
        "#iter() 是 Python 内置函数，用于将一个可迭代对象（iterable）转换为迭代器（iterator）。\n",
        "#启用顺序访问：迭代器允许我们使用 next() 函数一次获取一个元素\n",
        "#状态跟踪：迭代器会记住当前访问的位置，每次调用 next() 都会返回序列中的下一个元素\n",
        "\n",
        "first_batch = next(data_iter)# 从迭代器中获取第一个批次的数据\n",
        "print(first_batch)# 打印出这个批次的内容"
      ],
      "metadata": {
        "id": "9lWR44n0ql8i",
        "outputId": "3539a0c7-cbda-42f6-f465-890f56da3d52",
        "colab": {
          "base_uri": "https://localhost:8080/"
        }
      },
      "id": "9lWR44n0ql8i",
      "execution_count": 43,
      "outputs": [
        {
          "output_type": "stream",
          "name": "stdout",
          "text": [
            "[tensor([[  40,  367, 2885, 1464],\n",
            "        [ 367, 2885, 1464, 1807]]), tensor([[ 367, 2885, 1464, 1807],\n",
            "        [2885, 1464, 1807, 3619]])]\n"
          ]
        }
      ]
    },
    {
      "cell_type": "code",
      "source": [
        "#测试 dataloader\n",
        "dataloader = create_dataloader_v1(\n",
        "    raw_text, batch_size=3, max_length=4, stride=1, shuffle=False\n",
        ")\n",
        "\n",
        "data_iter = iter(dataloader)# 将数据加载器转换为一个迭代器，这样就可以逐批次访问数据\n",
        "#iter() 是 Python 内置函数，用于将一个可迭代对象（iterable）转换为迭代器（iterator）。\n",
        "#启用顺序访问：迭代器允许我们使用 next() 函数一次获取一个元素\n",
        "#状态跟踪：迭代器会记住当前访问的位置，每次调用 next() 都会返回序列中的下一个元素\n",
        "\n",
        "first_batch = next(data_iter)# 从迭代器中获取第一个批次的数据\n",
        "print(first_batch)# 打印出这个批次的内容"
      ],
      "metadata": {
        "id": "wFp2E8D7rHF6",
        "outputId": "8d73e5c6-fbb3-413b-d868-e393e34bf2d5",
        "colab": {
          "base_uri": "https://localhost:8080/"
        }
      },
      "id": "wFp2E8D7rHF6",
      "execution_count": 44,
      "outputs": [
        {
          "output_type": "stream",
          "name": "stdout",
          "text": [
            "[tensor([[  40,  367, 2885, 1464],\n",
            "        [ 367, 2885, 1464, 1807],\n",
            "        [2885, 1464, 1807, 3619]]), tensor([[ 367, 2885, 1464, 1807],\n",
            "        [2885, 1464, 1807, 3619],\n",
            "        [1464, 1807, 3619,  402]])]\n"
          ]
        }
      ]
    },
    {
      "cell_type": "code",
      "source": [
        "#测试 dataloader\n",
        "dataloader = create_dataloader_v1(\n",
        "    raw_text, batch_size=2, max_length=4, stride=2, shuffle=False\n",
        ")\n",
        "\n",
        "data_iter = iter(dataloader)# 将数据加载器转换为一个迭代器，这样就可以逐批次访问数据\n",
        "#iter() 是 Python 内置函数，用于将一个可迭代对象（iterable）转换为迭代器（iterator）。\n",
        "#启用顺序访问：迭代器允许我们使用 next() 函数一次获取一个元素\n",
        "#状态跟踪：迭代器会记住当前访问的位置，每次调用 next() 都会返回序列中的下一个元素\n",
        "\n",
        "first_batch = next(data_iter)# 从迭代器中获取第一个批次的数据\n",
        "print(first_batch)# 打印出这个批次的内容"
      ],
      "metadata": {
        "id": "Xw09haSHrWgx",
        "outputId": "a6a15b7a-1f1c-4a5e-87eb-c5d4fa12f556",
        "colab": {
          "base_uri": "https://localhost:8080/"
        }
      },
      "id": "Xw09haSHrWgx",
      "execution_count": 45,
      "outputs": [
        {
          "output_type": "stream",
          "name": "stdout",
          "text": [
            "[tensor([[  40,  367, 2885, 1464],\n",
            "        [2885, 1464, 1807, 3619]]), tensor([[ 367, 2885, 1464, 1807],\n",
            "        [1464, 1807, 3619,  402]])]\n"
          ]
        }
      ]
    },
    {
      "cell_type": "code",
      "execution_count": 46,
      "id": "10deb4bc-4de1-4d20-921e-4b1c7a0e1a6d",
      "metadata": {
        "id": "10deb4bc-4de1-4d20-921e-4b1c7a0e1a6d",
        "outputId": "cd34429b-34d6-4939-e9ba-9b819b773c99",
        "colab": {
          "base_uri": "https://localhost:8080/"
        }
      },
      "outputs": [
        {
          "output_type": "stream",
          "name": "stdout",
          "text": [
            "[tensor([[ 1807,  3619,   402,   271],\n",
            "        [  402,   271, 10899,  2138]]), tensor([[ 3619,   402,   271, 10899],\n",
            "        [  271, 10899,  2138,   257]])]\n"
          ]
        }
      ],
      "source": [
        "second_batch = next(data_iter)\n",
        "print(second_batch)"
      ]
    },
    {
      "cell_type": "markdown",
      "id": "b006212f-de45-468d-bdee-5806216d1679",
      "metadata": {
        "id": "b006212f-de45-468d-bdee-5806216d1679"
      },
      "source": [
        "- An example using stride equal to the context length (here: 4) as shown below:"
      ]
    },
    {
      "cell_type": "markdown",
      "source": [
        "\"stride equal to the context length\" 的意思是步长（stride）的值等于上下文长度（context length）。在这个例子中，上下文长度是4，所以stride也设为4。\n",
        "具体来说：\n",
        "\n",
        "context length（上下文长度）是指每个输入序列的长度，即max_length参数的值，这里是4个token\n",
        "stride（步长）是指滑动窗口每次移动的距离\n",
        "\n",
        "当stride等于context length（这里都是4）时，意味着每次滑动窗口会完全移动到新的位置，不会有重叠部分。这相当于将文本切分成连续的、不重叠的块。\n",
        "如果用数字表示，假设有一串token [0,1,2,3,4,5,6,7,8,9]：\n",
        "\n",
        "第一个窗口：[0,1,2,3]\n",
        "第二个窗口：[4,5,6,7]\n",
        "第三个窗口：[8,9,...]（这个可能不完整）\n",
        "\n",
        "相比之下，如果stride小于context length，那么窗口之间会有重叠：\n",
        "\n",
        "stride=2，窗口长度=4时：[0,1,2,3], [2,3,4,5], [4,5,6,7], [6,7,8,9]"
      ],
      "metadata": {
        "id": "JU1uM3s6rwR-"
      },
      "id": "JU1uM3s6rwR-"
    },
    {
      "cell_type": "markdown",
      "id": "9cb467e0-bdcd-4dda-b9b0-a738c5d33ac3",
      "metadata": {
        "id": "9cb467e0-bdcd-4dda-b9b0-a738c5d33ac3"
      },
      "source": [
        "<img src=\"https://sebastianraschka.com/images/LLMs-from-scratch-images/ch02_compressed/14.webp\" width=\"500px\">"
      ]
    },
    {
      "cell_type": "markdown",
      "id": "b1ae6d45-f26e-4b83-9c7b-cff55ffa7d16",
      "metadata": {
        "id": "b1ae6d45-f26e-4b83-9c7b-cff55ffa7d16"
      },
      "source": [
        "- We can also create batched outputs\n",
        "- Note that we increase the stride here so that we don't have overlaps between the batches, since more overlap could lead to increased overfitting"
      ]
    },
    {
      "cell_type": "code",
      "execution_count": 47,
      "id": "1916e7a6-f03d-4f09-91a6-d0bdbac5a58c",
      "metadata": {
        "id": "1916e7a6-f03d-4f09-91a6-d0bdbac5a58c",
        "outputId": "1428af9a-342f-45e2-c393-985cdcb10d01",
        "colab": {
          "base_uri": "https://localhost:8080/"
        }
      },
      "outputs": [
        {
          "output_type": "stream",
          "name": "stdout",
          "text": [
            "Inputs:\n",
            " tensor([[   40,   367,  2885,  1464],\n",
            "        [ 1807,  3619,   402,   271],\n",
            "        [10899,  2138,   257,  7026],\n",
            "        [15632,   438,  2016,   257],\n",
            "        [  922,  5891,  1576,   438],\n",
            "        [  568,   340,   373,   645],\n",
            "        [ 1049,  5975,   284,   502],\n",
            "        [  284,  3285,   326,    11]])\n",
            "\n",
            "Targets:\n",
            " tensor([[  367,  2885,  1464,  1807],\n",
            "        [ 3619,   402,   271, 10899],\n",
            "        [ 2138,   257,  7026, 15632],\n",
            "        [  438,  2016,   257,   922],\n",
            "        [ 5891,  1576,   438,   568],\n",
            "        [  340,   373,   645,  1049],\n",
            "        [ 5975,   284,   502,   284],\n",
            "        [ 3285,   326,    11,   287]])\n"
          ]
        }
      ],
      "source": [
        "dataloader = create_dataloader_v1(raw_text, batch_size=8, max_length=4, stride=4, shuffle=False)\n",
        "\n",
        "data_iter = iter(dataloader)\n",
        "inputs, targets = next(data_iter)\n",
        "print(\"Inputs:\\n\", inputs)\n",
        "print(\"\\nTargets:\\n\", targets)"
      ]
    },
    {
      "cell_type": "markdown",
      "id": "2cd2fcda-2fda-4aa8-8bc8-de1e496f9db1",
      "metadata": {
        "id": "2cd2fcda-2fda-4aa8-8bc8-de1e496f9db1"
      },
      "source": [
        "## 2.7 Creating token embeddings"
      ]
    },
    {
      "cell_type": "markdown",
      "id": "1a301068-6ab2-44ff-a915-1ba11688274f",
      "metadata": {
        "id": "1a301068-6ab2-44ff-a915-1ba11688274f"
      },
      "source": [
        "- The data is already almost ready for an LLM  \n",
        "用于 LLM 的数据基本准备好了\n",
        "- But lastly let us embed the tokens in a continuous vector representation using an embedding layer  \n",
        "最后来用嵌入层（embedding layer）把 tokens 嵌入为连续的向量\n",
        "- Usually, these embedding layers are part of the LLM itself and are updated (trained) during model training  \n",
        "通常来说这种嵌入层是 LLM 本身的一部分并且会在模型训练时更新。"
      ]
    },
    {
      "cell_type": "markdown",
      "id": "e85089aa-8671-4e5f-a2b3-ef252004ee4c",
      "metadata": {
        "id": "e85089aa-8671-4e5f-a2b3-ef252004ee4c"
      },
      "source": [
        "<img src=\"https://sebastianraschka.com/images/LLMs-from-scratch-images/ch02_compressed/15.webp\" width=\"400px\">"
      ]
    },
    {
      "cell_type": "markdown",
      "id": "44e014ca-1fc5-4b90-b6fa-c2097bb92c0b",
      "metadata": {
        "id": "44e014ca-1fc5-4b90-b6fa-c2097bb92c0b"
      },
      "source": [
        "- Suppose we have the following four input examples with input ids 2, 3, 5, and 1 (after tokenization):"
      ]
    },
    {
      "cell_type": "code",
      "execution_count": 48,
      "id": "15a6304c-9474-4470-b85d-3991a49fa653",
      "metadata": {
        "id": "15a6304c-9474-4470-b85d-3991a49fa653"
      },
      "outputs": [],
      "source": [
        "input_ids = torch.tensor([2, 3, 5, 1])"
      ]
    },
    {
      "cell_type": "markdown",
      "id": "14da6344-2c71-4837-858d-dd120005ba05",
      "metadata": {
        "id": "14da6344-2c71-4837-858d-dd120005ba05"
      },
      "source": [
        "- For the sake of simplicity, suppose we have a small vocabulary of only 6 words and we want to create embeddings of size 3:"
      ]
    },
    {
      "cell_type": "code",
      "execution_count": 49,
      "id": "93cb2cee-9aa6-4bb8-8977-c65661d16eda",
      "metadata": {
        "id": "93cb2cee-9aa6-4bb8-8977-c65661d16eda"
      },
      "outputs": [],
      "source": [
        "vocab_size = 6\n",
        "output_dim = 3\n",
        "\n",
        "torch.manual_seed(123)\n",
        "embedding_layer = torch.nn.Embedding(vocab_size, output_dim)"
      ]
    },
    {
      "cell_type": "markdown",
      "id": "4ff241f6-78eb-4e4a-a55f-5b2b6196d5b0",
      "metadata": {
        "id": "4ff241f6-78eb-4e4a-a55f-5b2b6196d5b0"
      },
      "source": [
        "- This would result in a 6x3 weight matrix:"
      ]
    },
    {
      "cell_type": "code",
      "execution_count": 50,
      "id": "a686eb61-e737-4351-8f1c-222913d47468",
      "metadata": {
        "id": "a686eb61-e737-4351-8f1c-222913d47468",
        "outputId": "4b197690-b68e-432e-f9f4-93151bbf8154",
        "colab": {
          "base_uri": "https://localhost:8080/"
        }
      },
      "outputs": [
        {
          "output_type": "stream",
          "name": "stdout",
          "text": [
            "Parameter containing:\n",
            "tensor([[ 0.3374, -0.1778, -0.1690],\n",
            "        [ 0.9178,  1.5810,  1.3010],\n",
            "        [ 1.2753, -0.2010, -0.1606],\n",
            "        [-0.4015,  0.9666, -1.1481],\n",
            "        [-1.1589,  0.3255, -0.6315],\n",
            "        [-2.8400, -0.7849, -1.4096]], requires_grad=True)\n"
          ]
        }
      ],
      "source": [
        "print(embedding_layer.weight)"
      ]
    },
    {
      "cell_type": "markdown",
      "source": [
        "这里的权重矩阵初始值是随机的，后续会在 LLM 的训练中被优化。  \n",
        "这个权重矩阵是 6 * 3，每一行对应一个词，每一列对应一个嵌入的维度。"
      ],
      "metadata": {
        "id": "drNh_wpR0ETq"
      },
      "id": "drNh_wpR0ETq"
    },
    {
      "cell_type": "markdown",
      "id": "26fcf4f5-0801-4eb4-bb90-acce87935ac7",
      "metadata": {
        "id": "26fcf4f5-0801-4eb4-bb90-acce87935ac7"
      },
      "source": [
        "- For those who are familiar with one-hot encoding, the embedding layer approach above is essentially just a more efficient way of implementing one-hot encoding followed by matrix multiplication in a fully-connected layer, which is described in the supplementary code in [./embedding_vs_matmul](../03_bonus_embedding-vs-matmul)\n",
        "- Because the embedding layer is just a more efficient implementation that is equivalent to the one-hot encoding and matrix-multiplication approach it can be seen as a neural network layer that can be optimized via backpropagation"
      ]
    },
    {
      "cell_type": "markdown",
      "id": "4b0d58c3-83c0-4205-aca2-9c48b19fd4a7",
      "metadata": {
        "id": "4b0d58c3-83c0-4205-aca2-9c48b19fd4a7"
      },
      "source": [
        "- To convert a token with id 3 into a 3-dimensional vector, we do the following:  \n",
        "-将id为3的 token 转换为三维向量，我们执行以下操作："
      ]
    },
    {
      "cell_type": "code",
      "execution_count": 51,
      "id": "e43600ba-f287-4746-8ddf-d0f71a9023ca",
      "metadata": {
        "id": "e43600ba-f287-4746-8ddf-d0f71a9023ca",
        "outputId": "b5cf6b30-8848-4b24-949c-cf6acd37a99b",
        "colab": {
          "base_uri": "https://localhost:8080/"
        }
      },
      "outputs": [
        {
          "output_type": "stream",
          "name": "stdout",
          "text": [
            "tensor([[-0.4015,  0.9666, -1.1481]], grad_fn=<EmbeddingBackward0>)\n"
          ]
        }
      ],
      "source": [
        "print(embedding_layer(torch.tensor([3])))"
      ]
    },
    {
      "cell_type": "markdown",
      "id": "a7bbf625-4f36-491d-87b4-3969efb784b0",
      "metadata": {
        "id": "a7bbf625-4f36-491d-87b4-3969efb784b0"
      },
      "source": [
        "- Note that the above is the 4th row in the `embedding_layer` weight matrix\n",
        "- To embed all four `input_ids` values above, we do"
      ]
    },
    {
      "cell_type": "code",
      "execution_count": 52,
      "id": "50280ead-0363-44c8-8c35-bb885d92c8b7",
      "metadata": {
        "id": "50280ead-0363-44c8-8c35-bb885d92c8b7",
        "outputId": "429f8674-c3c4-461e-ce10-0d68ca327eb6",
        "colab": {
          "base_uri": "https://localhost:8080/"
        }
      },
      "outputs": [
        {
          "output_type": "stream",
          "name": "stdout",
          "text": [
            "tensor([[ 1.2753, -0.2010, -0.1606],\n",
            "        [-0.4015,  0.9666, -1.1481],\n",
            "        [-2.8400, -0.7849, -1.4096],\n",
            "        [ 0.9178,  1.5810,  1.3010]], grad_fn=<EmbeddingBackward0>)\n"
          ]
        }
      ],
      "source": [
        "print(embedding_layer(input_ids))"
      ]
    },
    {
      "cell_type": "markdown",
      "id": "be97ced4-bd13-42b7-866a-4d699a17e155",
      "metadata": {
        "id": "be97ced4-bd13-42b7-866a-4d699a17e155"
      },
      "source": [
        "- An embedding layer is essentially a look-up operation:  \n",
        "嵌入层本质上是一个查找操作："
      ]
    },
    {
      "cell_type": "markdown",
      "id": "f33c2741-bf1b-4c60-b7fd-61409d556646",
      "metadata": {
        "id": "f33c2741-bf1b-4c60-b7fd-61409d556646"
      },
      "source": [
        "<img src=\"https://sebastianraschka.com/images/LLMs-from-scratch-images/ch02_compressed/16.webp?123\" width=\"500px\">"
      ]
    },
    {
      "cell_type": "markdown",
      "id": "08218d9f-aa1a-4afb-a105-72ff96a54e73",
      "metadata": {
        "id": "08218d9f-aa1a-4afb-a105-72ff96a54e73"
      },
      "source": [
        "- **You may be interested in the bonus content comparing embedding layers with regular linear layers: [../03_bonus_embedding-vs-matmul](../03_bonus_embedding-vs-matmul)**"
      ]
    },
    {
      "cell_type": "markdown",
      "id": "c393d270-b950-4bc8-99ea-97d74f2ea0f6",
      "metadata": {
        "id": "c393d270-b950-4bc8-99ea-97d74f2ea0f6"
      },
      "source": [
        "## 2.8 Encoding word positions"
      ]
    },
    {
      "cell_type": "markdown",
      "id": "24940068-1099-4698-bdc0-e798515e2902",
      "metadata": {
        "id": "24940068-1099-4698-bdc0-e798515e2902"
      },
      "source": [
        "- Embedding layer convert IDs into identical vector representations regardless of where they are located in the input sequence:  \n",
        "\n",
        "- 嵌入层将 ID 转换为相同的向量表示，不考虑它们在输入序列中的位置。"
      ]
    },
    {
      "cell_type": "markdown",
      "id": "9e0b14a2-f3f3-490e-b513-f262dbcf94fa",
      "metadata": {
        "id": "9e0b14a2-f3f3-490e-b513-f262dbcf94fa"
      },
      "source": [
        "<img src=\"https://sebastianraschka.com/images/LLMs-from-scratch-images/ch02_compressed/17.webp\" width=\"400px\">"
      ]
    },
    {
      "cell_type": "markdown",
      "source": [
        "可以看出这里面的 fox 虽然是不同的位置，但是 embedding vectors 是完全一样的"
      ],
      "metadata": {
        "id": "39KpyuPIJ30U"
      },
      "id": "39KpyuPIJ30U"
    },
    {
      "cell_type": "markdown",
      "id": "92a7d7fe-38a5-46e6-8db6-b688887b0430",
      "metadata": {
        "id": "92a7d7fe-38a5-46e6-8db6-b688887b0430"
      },
      "source": [
        "- Positional embeddings are combined with the token embedding vector to form the input embeddings for a large language model:  \n",
        "结合位置嵌入和词元嵌入，来形成 LLM 的输入嵌入"
      ]
    },
    {
      "cell_type": "markdown",
      "id": "48de37db-d54d-45c4-ab3e-88c0783ad2e4",
      "metadata": {
        "id": "48de37db-d54d-45c4-ab3e-88c0783ad2e4"
      },
      "source": [
        "<img src=\"https://sebastianraschka.com/images/LLMs-from-scratch-images/ch02_compressed/18.webp\" width=\"500px\">"
      ]
    },
    {
      "cell_type": "markdown",
      "source": [
        "位置嵌入主要有两大类别：相对位置嵌入和绝对位置嵌入。\n",
        "\n",
        "\n",
        "\n",
        "*  绝对位置嵌入直接与序列中的特定位置相关联。对于输入序列中的每个位置，都会为token 的嵌入添加一个独特的嵌入，以表示其确切位置。例如，第一个token有特定的位置嵌入，第二个token有另一个不同的嵌入，依此类推，如上图所示。\n",
        "*   相对位置嵌入则不关注token的绝对位置，而是强调token之间的相对位置或距离。这意味着模型学习的是\"相距多远\"而非\"在哪个确切位置\"的关系。这种方法的优势在于模型能更好地泛化到不同长度的序列，即使在训练过程中没有见过这些长度的序列。"
      ],
      "metadata": {
        "id": "Y5lZKvxtQ-bW"
      },
      "id": "Y5lZKvxtQ-bW"
    },
    {
      "cell_type": "markdown",
      "id": "7f187f87-c1f8-4c2e-8050-350bbb972f55",
      "metadata": {
        "id": "7f187f87-c1f8-4c2e-8050-350bbb972f55"
      },
      "source": [
        "- The BytePair encoder has a vocabulary size of 50,257:  \n",
        "BPE 的词汇表大小是50257  \n",
        "- Suppose we want to encode the input tokens into a 256-dimensional vector representation:  \n",
        "假设我们想把编码输出词元编码成256维的向量表示。"
      ]
    },
    {
      "cell_type": "code",
      "execution_count": 53,
      "id": "0b9e344d-03a6-4f2c-b723-67b6a20c5041",
      "metadata": {
        "id": "0b9e344d-03a6-4f2c-b723-67b6a20c5041"
      },
      "outputs": [],
      "source": [
        "vocab_size = 50257\n",
        "output_dim = 256\n",
        "\n",
        "token_embedding_layer = torch.nn.Embedding(vocab_size, output_dim)"
      ]
    },
    {
      "cell_type": "markdown",
      "id": "a2654722-24e4-4b0d-a43c-436a461eb70b",
      "metadata": {
        "id": "a2654722-24e4-4b0d-a43c-436a461eb70b"
      },
      "source": [
        "- If we sample data from the dataloader, we embed the tokens in each batch into a 256-dimensional vector  \n",
        "-如果我们从dataloader采样数据，我们将每个批中的词元嵌入到一个256维的向量中\n",
        "\n",
        "- If we have a batch size of 8 with 4 tokens each, this results in a 8 x 4 x 256 tensor:  \n",
        "-如果我们有一个批次大小为8，每个批次有4个词元，这将得到一个8 x 4 x 256张量："
      ]
    },
    {
      "cell_type": "code",
      "execution_count": 54,
      "id": "ad56a263-3d2e-4d91-98bf-d0b68d3c7fc3",
      "metadata": {
        "id": "ad56a263-3d2e-4d91-98bf-d0b68d3c7fc3"
      },
      "outputs": [],
      "source": [
        "max_length = 4\n",
        "dataloader = create_dataloader_v1(\n",
        "    raw_text, batch_size=8, max_length=max_length,\n",
        "    stride=max_length, shuffle=False\n",
        ")\n",
        "data_iter = iter(dataloader)\n",
        "inputs, targets = next(data_iter)"
      ]
    },
    {
      "cell_type": "code",
      "execution_count": 55,
      "id": "84416b60-3707-4370-bcbc-da0b62f2b64d",
      "metadata": {
        "id": "84416b60-3707-4370-bcbc-da0b62f2b64d",
        "outputId": "2e91472b-ade7-4d62-ea9c-4dee5a740027",
        "colab": {
          "base_uri": "https://localhost:8080/"
        }
      },
      "outputs": [
        {
          "output_type": "stream",
          "name": "stdout",
          "text": [
            "Token IDs:\n",
            " tensor([[   40,   367,  2885,  1464],\n",
            "        [ 1807,  3619,   402,   271],\n",
            "        [10899,  2138,   257,  7026],\n",
            "        [15632,   438,  2016,   257],\n",
            "        [  922,  5891,  1576,   438],\n",
            "        [  568,   340,   373,   645],\n",
            "        [ 1049,  5975,   284,   502],\n",
            "        [  284,  3285,   326,    11]])\n",
            "\n",
            "Inputs shape:\n",
            " torch.Size([8, 4])\n"
          ]
        }
      ],
      "source": [
        "print(\"Token IDs:\\n\", inputs)\n",
        "print(\"\\nInputs shape:\\n\", inputs.shape)"
      ]
    },
    {
      "cell_type": "code",
      "execution_count": 56,
      "id": "7766ec38-30d0-4128-8c31-f49f063c43d1",
      "metadata": {
        "id": "7766ec38-30d0-4128-8c31-f49f063c43d1",
        "outputId": "ddb96a4f-b010-4ea9-df70-737102dd99db",
        "colab": {
          "base_uri": "https://localhost:8080/"
        }
      },
      "outputs": [
        {
          "output_type": "stream",
          "name": "stdout",
          "text": [
            "torch.Size([8, 4, 256])\n"
          ]
        }
      ],
      "source": [
        "#把每个 token 嵌入成256维的向量\n",
        "token_embeddings = token_embedding_layer(inputs)\n",
        "print(token_embeddings.shape)"
      ]
    },
    {
      "cell_type": "code",
      "source": [
        "print(token_embeddings)"
      ],
      "metadata": {
        "colab": {
          "base_uri": "https://localhost:8080/"
        },
        "id": "6xLZmTJzMlmY",
        "outputId": "6b66f4bf-c6fd-4baa-e1a9-e2643066765a"
      },
      "id": "6xLZmTJzMlmY",
      "execution_count": 57,
      "outputs": [
        {
          "output_type": "stream",
          "name": "stdout",
          "text": [
            "tensor([[[ 0.4913,  1.1239,  1.4588,  ..., -0.3995, -1.8735, -0.1445],\n",
            "         [ 0.4481,  0.2536, -0.2655,  ...,  0.4997, -1.1991, -1.1844],\n",
            "         [-0.2507, -0.0546,  0.6687,  ...,  0.9618,  2.3737, -0.0528],\n",
            "         [ 0.9457,  0.8657,  1.6191,  ..., -0.4544, -0.7460,  0.3483]],\n",
            "\n",
            "        [[ 1.5460,  1.7368, -0.7848,  ..., -0.1004,  0.8584, -0.3421],\n",
            "         [-1.8622, -0.1914, -0.3812,  ...,  1.1220, -0.3496,  0.6091],\n",
            "         [ 1.9847, -0.6483, -0.1415,  ..., -0.3841, -0.9355,  1.4478],\n",
            "         [ 0.9647,  1.2974, -1.6207,  ...,  1.1463,  1.5797,  0.3969]],\n",
            "\n",
            "        [[-0.7713,  0.6572,  0.1663,  ..., -0.8044,  0.0542,  0.7426],\n",
            "         [ 0.8046,  0.5047,  1.2922,  ...,  1.4648,  0.4097,  0.3205],\n",
            "         [ 0.0795, -1.7636,  0.5750,  ...,  2.1823,  1.8231, -0.3635],\n",
            "         [ 0.4267, -0.0647,  0.5686,  ..., -0.5209,  1.3065,  0.8473]],\n",
            "\n",
            "        ...,\n",
            "\n",
            "        [[-1.6156,  0.9610, -2.6437,  ..., -0.9645,  1.0888,  1.6383],\n",
            "         [-0.3985, -0.9235, -1.3163,  ..., -1.1582, -1.1314,  0.9747],\n",
            "         [ 0.6089,  0.5329,  0.1980,  ..., -0.6333, -1.1023,  1.6292],\n",
            "         [ 0.3677, -0.1701, -1.3787,  ...,  0.7048,  0.5028, -0.0573]],\n",
            "\n",
            "        [[-0.1279,  0.6154,  1.7173,  ...,  0.3789, -0.4752,  1.5258],\n",
            "         [ 0.4861, -1.7105,  0.4416,  ...,  0.1475, -1.8394,  1.8755],\n",
            "         [-0.9573,  0.7007,  1.3579,  ...,  1.9378, -1.9052, -1.1816],\n",
            "         [ 0.2002, -0.7605, -1.5170,  ..., -0.0305, -0.3656, -0.1398]],\n",
            "\n",
            "        [[-0.9573,  0.7007,  1.3579,  ...,  1.9378, -1.9052, -1.1816],\n",
            "         [-0.0632, -0.6548, -1.0296,  ..., -0.9538, -0.5026, -0.1128],\n",
            "         [ 0.6032,  0.8983,  2.0722,  ...,  1.5242,  0.2030, -0.3002],\n",
            "         [ 1.1274, -0.1082, -0.2195,  ...,  0.5059, -1.8138, -0.0700]]],\n",
            "       grad_fn=<EmbeddingBackward0>)\n"
          ]
        }
      ]
    },
    {
      "cell_type": "markdown",
      "id": "fe2ae164-6f19-4e32-b9e5-76950fcf1c9f",
      "metadata": {
        "id": "fe2ae164-6f19-4e32-b9e5-76950fcf1c9f"
      },
      "source": [
        "- GPT-2 uses absolute position embeddings, so we just create another embedding layer:  \n",
        "GPT-2 模型使用绝对位置嵌入（absolute position embeddings）来处理序列中单词的位置信息。这些嵌入在训练过程中进行优化，而非像原始 Transformer 模型中那样使用固定或预定义的位置编码。  \n",
        "\n",
        "Transformer 中的位置编码是通过正弦和余弦函数算出来的，每个位置有一个固定的编码，并不改变。它的好处是对于更长的序列有一定的泛化性，因为这个位置编码的算法是有规律的。  \n",
        "\n",
        "而 GPT-2 位置编码是指定一个随机矩阵，然后通过模型迭代学习这个位置编码的表示。\n",
        "\n",
        "对于GPT模型的绝对嵌入方法，我们只需创建另一个与 token_embedding_layer 具有相同维度的嵌入层："
      ]
    },
    {
      "cell_type": "code",
      "execution_count": 58,
      "id": "cc048e20-7ac8-417e-81f5-8fe6f9a4fe07",
      "metadata": {
        "id": "cc048e20-7ac8-417e-81f5-8fe6f9a4fe07",
        "colab": {
          "base_uri": "https://localhost:8080/"
        },
        "outputId": "17628230-9f61-40b0-d1fe-a93532355e66"
      },
      "outputs": [
        {
          "output_type": "stream",
          "name": "stdout",
          "text": [
            "Parameter containing:\n",
            "tensor([[ 1.7375, -0.5620, -0.6303,  ..., -0.2277,  1.5748,  1.0345],\n",
            "        [ 1.6423, -0.7201,  0.2062,  ...,  0.4118,  0.1498, -0.4628],\n",
            "        [-0.4651, -0.7757,  0.5806,  ...,  1.4335, -0.4963,  0.8579],\n",
            "        [-0.6754, -0.4628,  1.4323,  ...,  0.8139, -0.7088,  0.4827]],\n",
            "       requires_grad=True)\n"
          ]
        }
      ],
      "source": [
        "# output_dim 是256\n",
        "context_length = max_length\n",
        "pos_embedding_layer = torch.nn.Embedding(context_length, output_dim)\n",
        "print(pos_embedding_layer.weight)"
      ]
    },
    {
      "cell_type": "code",
      "source": [
        "print(pos_embedding_layer.weight.shape)"
      ],
      "metadata": {
        "id": "CmkzcKEdTm3G",
        "outputId": "47a1b68a-d429-415e-9c1c-373bec02178d",
        "colab": {
          "base_uri": "https://localhost:8080/"
        }
      },
      "id": "CmkzcKEdTm3G",
      "execution_count": 59,
      "outputs": [
        {
          "output_type": "stream",
          "name": "stdout",
          "text": [
            "torch.Size([4, 256])\n"
          ]
        }
      ]
    },
    {
      "cell_type": "code",
      "execution_count": 60,
      "id": "c369a1e7-d566-4b53-b398-d6adafb44105",
      "metadata": {
        "id": "c369a1e7-d566-4b53-b398-d6adafb44105",
        "outputId": "172f7c9a-eb28-4517-ec13-52a187f456ec",
        "colab": {
          "base_uri": "https://localhost:8080/"
        }
      },
      "outputs": [
        {
          "output_type": "stream",
          "name": "stdout",
          "text": [
            "torch.Size([4, 256])\n"
          ]
        }
      ],
      "source": [
        "pos_embeddings = pos_embedding_layer(torch.arange(max_length))\n",
        "print(pos_embeddings.shape)"
      ]
    },
    {
      "cell_type": "code",
      "source": [
        "print(pos_embeddings)"
      ],
      "metadata": {
        "colab": {
          "base_uri": "https://localhost:8080/"
        },
        "id": "daP32_5AOU2i",
        "outputId": "50da7d92-6711-4448-df23-4d3f9b095363"
      },
      "id": "daP32_5AOU2i",
      "execution_count": 61,
      "outputs": [
        {
          "output_type": "stream",
          "name": "stdout",
          "text": [
            "tensor([[ 1.7375, -0.5620, -0.6303,  ..., -0.2277,  1.5748,  1.0345],\n",
            "        [ 1.6423, -0.7201,  0.2062,  ...,  0.4118,  0.1498, -0.4628],\n",
            "        [-0.4651, -0.7757,  0.5806,  ...,  1.4335, -0.4963,  0.8579],\n",
            "        [-0.6754, -0.4628,  1.4323,  ...,  0.8139, -0.7088,  0.4827]],\n",
            "       grad_fn=<EmbeddingBackward0>)\n"
          ]
        }
      ]
    },
    {
      "cell_type": "markdown",
      "id": "870e9d9f-2935-461a-9518-6d1386b976d6",
      "metadata": {
        "id": "870e9d9f-2935-461a-9518-6d1386b976d6"
      },
      "source": [
        "- To create the input embeddings used in an LLM, we simply add the token and the positional embeddings:"
      ]
    },
    {
      "cell_type": "code",
      "source": [
        "print(token_embeddings.shape)"
      ],
      "metadata": {
        "id": "7OIs8LqUUofz",
        "outputId": "a82c11f3-60c5-4618-a7d0-be82c2df9ef9",
        "colab": {
          "base_uri": "https://localhost:8080/"
        }
      },
      "id": "7OIs8LqUUofz",
      "execution_count": 62,
      "outputs": [
        {
          "output_type": "stream",
          "name": "stdout",
          "text": [
            "torch.Size([8, 4, 256])\n"
          ]
        }
      ]
    },
    {
      "cell_type": "code",
      "execution_count": 63,
      "id": "b22fab89-526e-43c8-9035-5b7018e34288",
      "metadata": {
        "id": "b22fab89-526e-43c8-9035-5b7018e34288",
        "outputId": "b5acf0df-1202-4712-c39f-c0d348257387",
        "colab": {
          "base_uri": "https://localhost:8080/"
        }
      },
      "outputs": [
        {
          "output_type": "stream",
          "name": "stdout",
          "text": [
            "torch.Size([8, 4, 256])\n"
          ]
        }
      ],
      "source": [
        "input_embeddings = token_embeddings + pos_embeddings\n",
        "print(input_embeddings.shape)"
      ]
    },
    {
      "cell_type": "markdown",
      "source": [
        "当执行 input_embeddings = token_embeddings + pos_embeddings 时，PyTorch 会自动进行广播(broadcasting)操作。广播是一种允许形状不同的张量进行运算的机制。  \n",
        "在这种情况下：\n",
        "\n",
        "token_embeddings 的形状是 [8, 4, 256]  \n",
        "pos_embeddings 的形状是 [4, 256]\n",
        "\n",
        "广播会自动将 pos_embeddings 扩展为 [1, 4, 256]，然后再扩展为 [8, 4, 256]，使其与 token_embeddings 形状匹配。这样就可以直接进行元素级加法操作。"
      ],
      "metadata": {
        "id": "NET3ePEjVOkB"
      },
      "id": "NET3ePEjVOkB"
    },
    {
      "cell_type": "code",
      "source": [
        "print(input_embeddings)"
      ],
      "metadata": {
        "colab": {
          "base_uri": "https://localhost:8080/"
        },
        "id": "VoYT3FRDPL2f",
        "outputId": "ba3c11ce-6c83-434c-ed82-4da066d5f3e7"
      },
      "id": "VoYT3FRDPL2f",
      "execution_count": 64,
      "outputs": [
        {
          "output_type": "stream",
          "name": "stdout",
          "text": [
            "tensor([[[ 2.2288,  0.5619,  0.8286,  ..., -0.6272, -0.2987,  0.8900],\n",
            "         [ 2.0903, -0.4664, -0.0593,  ...,  0.9115, -1.0493, -1.6473],\n",
            "         [-0.7158, -0.8304,  1.2494,  ...,  2.3952,  1.8773,  0.8051],\n",
            "         [ 0.2703,  0.4029,  3.0514,  ...,  0.3595, -1.4548,  0.8310]],\n",
            "\n",
            "        [[ 3.2835,  1.1749, -1.4150,  ..., -0.3281,  2.4332,  0.6924],\n",
            "         [-0.2199, -0.9114, -0.1750,  ...,  1.5337, -0.1998,  0.1462],\n",
            "         [ 1.5197, -1.4240,  0.4391,  ...,  1.0494, -1.4318,  2.3057],\n",
            "         [ 0.2893,  0.8346, -0.1884,  ...,  1.9602,  0.8709,  0.8796]],\n",
            "\n",
            "        [[ 0.9662,  0.0952, -0.4640,  ..., -1.0320,  1.6290,  1.7771],\n",
            "         [ 2.4468, -0.2154,  1.4984,  ...,  1.8766,  0.5595, -0.1423],\n",
            "         [-0.3856, -2.5393,  1.1556,  ...,  3.6157,  1.3267,  0.4944],\n",
            "         [-0.2487, -0.5275,  2.0009,  ...,  0.2930,  0.5977,  1.3300]],\n",
            "\n",
            "        ...,\n",
            "\n",
            "        [[ 0.1219,  0.3991, -3.2740,  ..., -1.1921,  2.6637,  2.6728],\n",
            "         [ 1.2438, -1.6436, -1.1101,  ..., -0.7464, -0.9816,  0.5118],\n",
            "         [ 0.1439, -0.2428,  0.7786,  ...,  0.8001, -1.5986,  2.4871],\n",
            "         [-0.3077, -0.6329,  0.0536,  ...,  1.5188, -0.2060,  0.4254]],\n",
            "\n",
            "        [[ 1.6095,  0.0535,  1.0871,  ...,  0.1512,  1.0996,  2.5603],\n",
            "         [ 2.1284, -2.4306,  0.6478,  ...,  0.5593, -1.6896,  1.4126],\n",
            "         [-1.4224, -0.0750,  1.9386,  ...,  3.3712, -2.4016, -0.3237],\n",
            "         [-0.4752, -1.2234, -0.0847,  ...,  0.7834, -1.0744,  0.3429]],\n",
            "\n",
            "        [[ 0.7802,  0.1387,  0.7277,  ...,  1.7101, -0.3304, -0.1471],\n",
            "         [ 1.5791, -1.3749, -0.8234,  ..., -0.5420, -0.3528, -0.5756],\n",
            "         [ 0.1382,  0.1226,  2.6528,  ...,  2.9576, -0.2933,  0.5577],\n",
            "         [ 0.4520, -0.5711,  1.2128,  ...,  1.3198, -2.5226,  0.4127]]],\n",
            "       grad_fn=<AddBackward0>)\n"
          ]
        }
      ]
    },
    {
      "cell_type": "markdown",
      "id": "1fbda581-6f9b-476f-8ea7-d244e6a4eaec",
      "metadata": {
        "id": "1fbda581-6f9b-476f-8ea7-d244e6a4eaec"
      },
      "source": [
        "- In the initial phase of the input processing workflow, the input text is segmented into separate tokens\n",
        "- Following this segmentation, these tokens are transformed into token IDs based on a predefined vocabulary:"
      ]
    },
    {
      "cell_type": "markdown",
      "id": "d1bb0f7e-460d-44db-b366-096adcd84fff",
      "metadata": {
        "id": "d1bb0f7e-460d-44db-b366-096adcd84fff"
      },
      "source": [
        "<img src=\"https://sebastianraschka.com/images/LLMs-from-scratch-images/ch02_compressed/19.webp\" width=\"400px\">"
      ]
    },
    {
      "cell_type": "markdown",
      "id": "63230f2e-258f-4497-9e2e-8deee4530364",
      "metadata": {
        "id": "63230f2e-258f-4497-9e2e-8deee4530364"
      },
      "source": [
        "# Summary and takeaways"
      ]
    },
    {
      "cell_type": "markdown",
      "id": "8b3293a6-45a5-47cd-aa00-b23e3ca0a73f",
      "metadata": {
        "id": "8b3293a6-45a5-47cd-aa00-b23e3ca0a73f"
      },
      "source": [
        "See the [./dataloader.ipynb](./dataloader.ipynb) code notebook, which is a concise version of the data loader that we implemented in this chapter and will need for training the GPT model in upcoming chapters.\n",
        "\n",
        "See [./exercise-solutions.ipynb](./exercise-solutions.ipynb) for the exercise solutions.\n",
        "\n",
        "See the [Byte Pair Encoding (BPE) Tokenizer From Scratch](../02_bonus_bytepair-encoder/compare-bpe-tiktoken.ipynb) notebook if you are interested in learning how the GPT-2 tokenizer can be implemented and trained from scratch."
      ]
    }
  ],
  "metadata": {
    "kernelspec": {
      "display_name": "Python 3 (ipykernel)",
      "language": "python",
      "name": "python3"
    },
    "language_info": {
      "codemirror_mode": {
        "name": "ipython",
        "version": 3
      },
      "file_extension": ".py",
      "mimetype": "text/x-python",
      "name": "python",
      "nbconvert_exporter": "python",
      "pygments_lexer": "ipython3",
      "version": "3.10.16"
    },
    "colab": {
      "provenance": [],
      "include_colab_link": true
    }
  },
  "nbformat": 4,
  "nbformat_minor": 5
}